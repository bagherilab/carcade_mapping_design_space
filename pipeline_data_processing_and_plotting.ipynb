{
 "cells": [
  {
   "cell_type": "markdown",
   "metadata": {},
   "source": [
    "# PROCESSING & PLOTTING DATA"
   ]
  },
  {
   "cell_type": "markdown",
   "metadata": {},
   "source": [
    "This notebook provides the functions and scripts for parsing simulation files (`.json`) into pickled numpy arrays (`.pkl`) and subsequentially selecting, plotting, and analyzing various subsets or all of the data. This notebook shows the logical order in which data is processed to obtain the results in the paper."
   ]
  },
  {
   "cell_type": "markdown",
   "metadata": {},
   "source": [
    "---"
   ]
  },
  {
   "cell_type": "markdown",
   "metadata": {},
   "source": [
    "1. HEURISTIC DATA PLOTTING\n",
    "2. MONOCULTURE AND CO-CULTURE DISH DATA PROCESSING & PLOTTING\n",
    "    - 2.1 PARSE MONOCULTURE AND CO-CULTURE DISH DATA\n",
    "    - 2.2 ANALYZE PARSED MONOCULTURE AND CO-CULTURE DISH DATA\n",
    "    - 2.3 SUBSET ANALYZED MONOCULTURE AND CO-CULTURE DISH DATA\n",
    "    - 2.4 PLOT SUBSETTED MONOCULTURE AND CO-CULTURE DISH DATA\n",
    "    - 2.5 MULTI-FEATURE & OUTCOME ANALYSIS MONOCULTURE AND CO-CULTURE DISH DATA\n",
    "3. EXPERIMENTAL LITERATURE DATA PLOTTING\n",
    "4. TISSUE DATA PROCESSING & PLOTTING\n",
    "    - 2.1 PARSE TISSUE DATA\n",
    "    - 2.2 ANALYZE PARSED TISSUE DATA\n",
    "    - 2.3 SUBSET ANALYZED TISSUE DATA\n",
    "    - 2.4 PLOT SUBSETTED TISSUE DATA\n",
    "    - 2.5 MULTI-FEATURE & OUTCOME ANALYSIS TISSUE\n",
    "5. RANKED DATA PLOTTING\n",
    "6. CO-CULTURE DISH AND TISSUE SHARED LOCS DATA PROCESSING & PLOTTING\n",
    "    - 6.1 ANALYZE PARSED CO-CULTURE DISH AND TISSUE SHARED LOCS DATA\n",
    "    - 6.2 SUBSET ANALYZED CO-CULTURE DISH AND TISSUE SHARED LOCS DATA\n",
    "    - 6.3 PLOT CO-CULTURE DISH AND TISSUE SHARED LOCS DATA\n",
    "7. CO-CULTURE, TISSUE, AND GRAPH IMAGING"
   ]
  },
  {
   "cell_type": "markdown",
   "metadata": {},
   "source": [
    "---"
   ]
  },
  {
   "cell_type": "markdown",
   "metadata": {},
   "source": [
    "## 1. HEURISTIC DATA PLOTTING "
   ]
  },
  {
   "cell_type": "markdown",
   "metadata": {},
   "source": [
    "The main function (`plot_heuristics_data`) will make a plot the probability of binding and/or killing based on the CAR-antigen and PD1-PDL1 binding heuristics used in the paper across various values of ligand/receptor and/or binding affinity. Each time this function is run the same output will be produced."
   ]
  },
  {
   "cell_type": "markdown",
   "metadata": {},
   "source": [
    "#### WORKSPACE VARIABLES\n",
    "\n",
    "+ `RESULTS_PATH_HEURISTICS` variable indicates where to save the heuristic plots (`.svg` files as a result of plotting)"
   ]
  },
  {
   "cell_type": "code",
   "execution_count": null,
   "metadata": {
    "collapsed": true
   },
   "outputs": [],
   "source": [
    "RESULTS_PATH_HEURISTICS = 'path/to/figures/heuristics/'"
   ]
  },
  {
   "cell_type": "markdown",
   "metadata": {},
   "source": [
    "#### PLOT HEURISTIC DATA"
   ]
  },
  {
   "cell_type": "code",
   "execution_count": null,
   "metadata": {
    "collapsed": true
   },
   "outputs": [],
   "source": [
    "import scripts.plot.plot_data"
   ]
  },
  {
   "cell_type": "code",
   "execution_count": null,
   "metadata": {
    "collapsed": true
   },
   "outputs": [],
   "source": [
    "scripts.plot.plot_data.plot_heuristics_data(RESULTS_PATH_HEURISTICS)"
   ]
  },
  {
   "cell_type": "markdown",
   "metadata": {},
   "source": [
    "#### EXAMPLE FIGURE"
   ]
  },
  {
   "cell_type": "markdown",
   "metadata": {},
   "source": [
    "---"
   ]
  },
  {
   "cell_type": "markdown",
   "metadata": {},
   "source": [
    "## 2. MONOCULTURE AND CO-CULTURE DISH DATA PROCESSING & PLOTTING"
   ]
  },
  {
   "cell_type": "markdown",
   "metadata": {},
   "source": [
    "A full combinatorial set of `monoculture dish` and `co-culture dish` data were generated where all of the following features were tested in the main set of data:\n",
    "\n",
    "+ `DOSE` : [250, 500, 1000]\n",
    "+ `TREAT RATIO` : [0:100, 25:75, 50:50, 75:25, 100:0]\n",
    "+ `CAR AFFINITY` : [1e-6, 1e-7, 1e-8, 1e-9]\n",
    "+ `ANTIGENS CANCER` : [100, 500, 1000, 5000, 10000]\n",
    "\n",
    "In the `co-culture dish` dataset, an additional feature was varied:\n",
    "\n",
    "+ `ANTIGENS HEALTHY` : [0, 100]\n",
    "\n",
    "which produced the `ideal` (`ANTIGENS HEALTHY` = 0) and `realistic` (`ANTIGENS HEALTHY` = 100) `co-culture dish` data.\n",
    "\n",
    "In extended datasets, `DOSE` or `TREAT RATIO` were extended to the following:\n",
    "\n",
    "+ `DOSE` : [250, 500, 1000, 5000, 10000]\n",
    "+ `TREAT RATIO` : [0:100, 10:90, 25:75, 50:50, 75:25, 90:10, 100:0]"
   ]
  },
  {
   "cell_type": "markdown",
   "metadata": {},
   "source": [
    "---"
   ]
  },
  {
   "cell_type": "markdown",
   "metadata": {},
   "source": [
    "### 2.1 PARSE MONOCULTURE AND CO-CULTURE DISH DATA"
   ]
  },
  {
   "cell_type": "markdown",
   "metadata": {},
   "source": [
    "The main parsing function (`parse`) iterates through each file in the data path and parses each simulation instance, extracting fields from the simulation setup, cells, and environment.\n",
    "\n",
    "The parsed arrays are organized as:\n",
    "\n",
    "`{\n",
    "    \"setup\": {\n",
    "        \"radius\": R,\n",
    "        \"height\": H,\n",
    "        \"time\": [],\n",
    "        \"pops\": [],\n",
    "        \"types\": [],\n",
    "        \"coords\": []\n",
    "    },\n",
    "    \"agents\": (N seeds) x (T timepoints) x (H height) x (C coordinates) x (P positions),\n",
    "    \"environments\": {\n",
    "        \"glucose\": (N seeds) x (T timepoints) x (H height) x (R radius)\n",
    "        \"oxygen\": (N seeds) x (T timepoints) x (H height) x (R radius)\n",
    "        \"tgfa\": (N seeds) x (T timepoints) x (H height) x (R radius)\n",
    "        \"IL-2\": (N seeds) x (T timepoints) x (H height) x (R radius)\n",
    "    }\n",
    "}\n",
    "`\n",
    "\n",
    "where each entry in the agents array is a structured entry of the shape:\n",
    "\n",
    "`\n",
    "\"pop\"       int8    population code\n",
    "\"type\"      int8    cell type code\n",
    "\"volume\"    int16   cell volume (rounded)\n",
    "\"cycle\"     int16   average cell cycle length (rounded)\n",
    "`\n",
    "The `parse.py` file contains general parsing functions.\n",
    "\n",
    "Parsing can take some time."
   ]
  },
  {
   "cell_type": "markdown",
   "metadata": {},
   "source": [
    "#### WORKSPACE VARIABLES\n",
    "\n",
    "Set up workspace variables for parsing simulations.\n",
    "\n",
    "+ `DATA_PATH` variables are the path to simulaiton output data files (`.tar.xz` files of compressed simulation outputs)\n",
    "+ `RESULT_PATH` variables are the path for result files (`.pkl` files generated by parsing)"
   ]
  },
  {
   "cell_type": "code",
   "execution_count": null,
   "metadata": {
    "collapsed": true
   },
   "outputs": [],
   "source": [
    "# Monoculture dish data workspace variable\n",
    "DATA_PATH_DISH_MONOCULTURE_TAR = 'path/to/dish/monoculture/files/tars/'\n",
    "RESULTS_PATH_DISH_MONOCULTURE_PARSED = 'path/to/dish/monoculture/files/parsed/'\n",
    "\n",
    "# Co-culture dish data workspace variable\n",
    "DATA_PATH_DISH_COCULTURE_TAR = 'path/to/dish/coculture/files/tars/'\n",
    "RESULTS_PATH_DISH_COCULTURE_PARSED = 'path/to/dish/coculture/files/parsed/'"
   ]
  },
  {
   "cell_type": "markdown",
   "metadata": {},
   "source": [
    "#### PARSE `MONOCULTURE DISH` AND `CO-CULTURE DISH` SIMULATIONS"
   ]
  },
  {
   "cell_type": "code",
   "execution_count": null,
   "metadata": {
    "collapsed": true
   },
   "outputs": [],
   "source": [
    "import scripts.parse.parse"
   ]
  },
  {
   "cell_type": "code",
   "execution_count": null,
   "metadata": {
    "collapsed": true
   },
   "outputs": [],
   "source": [
    "scripts.parse.parse.parse(DATA_PATH_DISH_MONOCULTURE_TAR, RESULTS_PATH_DISH_MONOCULTURE_PKL)\n",
    "scripts.parse.parse.parse(DATA_PATH_DISH_COCULTURE_TAR, RESULTS_PATH_DISH_COCULTURE_PKL)"
   ]
  },
  {
   "cell_type": "markdown",
   "metadata": {},
   "source": [
    "---"
   ]
  },
  {
   "cell_type": "markdown",
   "metadata": {},
   "source": [
    "### 2.2 ANALYZE PARSED  MONOCULTURE AND CO-CULTURE DISH DATA"
   ]
  },
  {
   "cell_type": "markdown",
   "metadata": {},
   "source": [
    "Each main analyzing function (`analyze_cells`, `analyze_env`, `analyze_spatial`, and `analyze_lysis`) iterate through each parsed file (`.pkl`) in the data path and analyzes each simulation instance, extracting fields from the simulation setup, cells, and environment depending on the function.\n",
    "\n",
    "`analyze_cells` collects cell counts for each population and state over time (files produced will end with `ANALYSED`).\n",
    "\n",
    "`analyze_env` collects information on environmental species concentrations over time (files produced will end with `ENVIRONMENT`).\n",
    "\n",
    "`analyze_spatial` collects cell counts for each population across simulation radii over time (files produced will end with `SPATIAL`).\n",
    "\n",
    "`analyze_lysis` collects lysed cell information over time (files produced will end with `LYSED`)."
   ]
  },
  {
   "cell_type": "markdown",
   "metadata": {},
   "source": [
    "#### WORKSPACE VARIABLES\n",
    "\n",
    "Set up workspace variables for analyzing simulations.\n",
    "\n",
    "+ `DATA_PATH...PARSED` variables are the path to parsed data files (`.pkl` files generated by parsing)\n",
    "+ `DATA_PATH...LYSIS` variables are the path to `LYSIS` data files (`.LYSIS.json` files generated direclty from the simulation outputs)\n",
    "+ `RESULT_PATH` variables are the path for result files (`.pkl` files generated by analyzing)"
   ]
  },
  {
   "cell_type": "code",
   "execution_count": 1,
   "metadata": {
    "collapsed": true
   },
   "outputs": [],
   "source": [
    "# Monoculture dish workspace variables\n",
    "DATA_PATH_DISH_MONOCULTURE_PARSED = 'path/to/dish/monoculture/files/parsed/'\n",
    "DATA_PATH_DISH_MONOCULTURE_LYSIS = 'path/to/dish/monoculture/files/lysis/'\n",
    "RESULTS_PATH_DISH_MONOCULTURE_CELLS = 'path/to/dish/monoculture/files/cells/'\n",
    "RESULTS_PATH_DISH_MONOCULTURE_ENVIRONMENT = 'path/to/dish/monoculture/files/environment/'\n",
    "RESULTS_PATH_DISH_MONOCULTURE_SPATIAL = 'path/to/dish/monoculture/files/spatial/'\n",
    "RESULTS_PATH_DISH_MONOCULTURE_LYSED = 'path/to/dish/monoculture/files/lysed/'\n",
    "\n",
    "# Co-culture dish workspace variables\n",
    "DATA_PATH_DISH_COCULTURE_PARSED = 'path/to/dish/coculture/files/parsed/'\n",
    "DATA_PATH_DISH_COCULTURE_LYSIS = 'path/to/dish/coculture/files/lysis/'\n",
    "RESULTS_PATH_DISH_COCULTURE_CELLS = 'path/to/dish/coculture/files/cells/'\n",
    "RESULTS_PATH_DISH_COCULTURE_ENVIRONMENT = 'path/to/dish/coculture/files/environment/'\n",
    "RESULTS_PATH_DISH_COCULTURE_SPATIAL = 'path/to/dish/coculture/files/spatial/'\n",
    "RESULTS_PATH_DISH_COCULTURE_LYSED = 'path/to/dish/coculture/files/lysed/'"
   ]
  },
  {
   "cell_type": "markdown",
   "metadata": {},
   "source": [
    "#### ANALYZE `MONOCULTURE DISH` AND `CO-CULTURE DISH` SIMULATIONS"
   ]
  },
  {
   "cell_type": "code",
   "execution_count": 1,
   "metadata": {
    "collapsed": true
   },
   "outputs": [],
   "source": [
    "import scripts.analyze.analyze_cells\n",
    "import scripts.analyze.analyze_env\n",
    "import scripts.analyze.analyze_spatial\n",
    "import scripts.analyze.analyze_lysis"
   ]
  },
  {
   "cell_type": "code",
   "execution_count": null,
   "metadata": {
    "collapsed": true
   },
   "outputs": [],
   "source": [
    "# Analyze monoculture dish data\n",
    "scripts.analyze.analyze_cells.analyze_cells(DATA_PATH_DISH_MONOCULTURE_PARSED, RESULTS_PATH_DISH_MONOCULTURE_CELLS)\n",
    "scripts.analyze.analyze_env.analyze_env(DATA_PATH_DISH_MONOCULTURE_PARSED, RESULTS_PATH_DISH_MONOCULTURE_ENVIRONMENT)\n",
    "scripts.analyze.analyze_spatial.analyze_spatial(DATA_PATH_DISH_MONOCULTURE_PARSED, RESULTS_PATH_DISH_MONOCULTURE_SPATIAL)\n",
    "scripts.analyze.analyze_lysis.analyze_lysis(DATA_PATH_DISH_MONOCULTURE_LYSIS, RESULTS_PATH_DISH_MONOCULTURE_LYSED)\n",
    "\n",
    "# Analyze co-culture dish data\n",
    "scripts.analyze.analyze_cells.analyze_cells(DATA_PATH_DISH_COCULTURE_PARSED, RESULTS_PATH_DISH_COCULTURE_CELLS)\n",
    "scripts.analyze.analyze_env.analyze_env(DATA_PATH_DISH_COCULTURE_PARSED, RESULTS_PATH_DISH_COCULTURE_ENVIRONMENT)\n",
    "scripts.analyze.analyze_spatial.analyze_spatial(DATA_PATH_DISH_COCULTURE_PARSED, RESULTS_PATH_DISH_COCULTURE_SPATIAL)\n",
    "scripts.analyze.analyze_lysis.analyze_lysis(DATA_PATH_DISH_COCULTURE_LYSIS, RESULTS_PATH_DISH_COCULTURE_LYSED)"
   ]
  },
  {
   "cell_type": "markdown",
   "metadata": {},
   "source": [
    "---"
   ]
  },
  {
   "cell_type": "markdown",
   "metadata": {},
   "source": [
    "### 2.3 SUBSET ANALYZED MONOCULTURE AND CO-CULTURE DISH DATA"
   ]
  },
  {
   "cell_type": "markdown",
   "metadata": {},
   "source": [
    "The main subsetting function (`subset_data`) takes in a given desired subset of data and iterates through each analyzed file in the data path (`.pkl`) and adds simulations matching the subset reqiresments to a single data file. Each subset will also automatically include the untreated control if it is in the file directory where the data is being pulled from.\n",
    "\n",
    "A data subsetet for example might be all simulations where indicated features meet the following requirements:\n",
    "\n",
    "+ `TREAT RATIO` : 50-50\n",
    "+ `CAR AFFINITY` : 1e-7\n",
    "+ `ANTIGENS CANCER` : 1000\n",
    "\n",
    "This means all data within this subset will have the specific values of the features listed above, but all features values of `DOSE`, and if applicable `ANTIGENS HEALTHY`, will be included. All subsets will be saved in the following format:\n",
    "\n",
    "`XML_NAME` + `DOSE` + `TREAT RATIO` + `CAR AFFINITY` + `ANTIGENS CANCER` + `ANTIGENS HEALTHY`\n",
    "\n",
    "where the gap between values is separed by a `_`, values specified in the subset are replaced with the desired value, and values not specified in the subset are replaced by an `X` to indicate that all values of that feature are present.\n",
    "\n",
    "Thus, the above example would produce the following name for the `monoculture dish` data:\n",
    "    \n",
    "    VITRO_DISH_TREAT_C_2D_X_50-50_1e-07_1000_NA_DATATYPE.pkl\n",
    "\n",
    "Where `DATATYPE` is either `ANALYZED` for cells, `ENVIRONMENT` for enviornment, `SPATIAL` for spatial, or `LYSED` for lysed analyses.\n",
    "\n",
    "And would produce the following name for the `co-culture dish` data:\n",
    "\n",
    "\n",
    "    VITRO_DISH_TREAT_CH_2D_X_50-50_1e-07_1000_X_DATATYPE.pkl\n",
    "\n",
    "where the `X` in place of the `ANTIGENS HEALTHY` would be replaced by a value if a value were instead specified.\n",
    "\n",
    "We can also collect all the data together into one file by not specifying a subset. We only need to do this for the cell (`ANALYZED`) data for the `monoculture dish` and `co-culture dish` data. Additionally, we can collect this with or without specifying the `states` flag, which if `True` will collect only the cell population and state counts data over time, but will exclude the volume and cell cycle distribution data. This is used particularlly because files including the distribution data are very large. The `states` flag is only relevant to the `analyze_cells` function."
   ]
  },
  {
   "cell_type": "markdown",
   "metadata": {},
   "source": [
    "#### WORKSPACE VARIABLES\n",
    "\n",
    "Set up workspace variables for subsetting simulations.\n",
    "\n",
    "+ `DATA_PATH` variables are the path to analyzed data files (`.pkl` files generated by analyzing data)\n",
    "+ `RESULT_PATH` variables are the path for result files (`.pkl` files generated by subsetting)\n",
    "+ `...XML_NAME` variables are strings (that vary based on data setup) that will preceed the file name extension (that vary based on subset selected)\n",
    "+ `...SUBSET...` variables are the requested data subsets to make (`;` separated lists with tuples containing keys to specific feature values that simulations in subset must include)\n",
    "+ `...ALL` variables indicate to collect all data without subsetting\n",
    "+ `DATA_TYPE` variables indicate which type of analyzed data is being fed into the subsetting function\n",
    "+ `STATES` variable enable collecting only the relevant cell count and states data (thus excluding cell distribution data such as volumes and average cell cycle lengths)"
   ]
  },
  {
   "cell_type": "code",
   "execution_count": null,
   "metadata": {
    "collapsed": true
   },
   "outputs": [],
   "source": [
    "# Monoculture dish workspace variables\n",
    "DATA_PATH_DISH_MONOCULTURE_CELLS = 'path/to/dish/monoculture/files/cells/'\n",
    "DATA_PATH_DISH_MONOCULTURE_ENVIRONMENT = 'path/to/dish/monoculture/files/environment/'\n",
    "DATA_PATH_DISH_MONOCULTURE_SPATIAL = 'path/to/dish/monoculture/files/spatial/'\n",
    "DATA_PATH_DISH_MONOCULTURE_LYSED = 'path/to/dish/monoculture/files/lysed/'\n",
    "\n",
    "DISH_MONOCULTURE_XML_NAME = 'VITRO_DISH_TREAT_C_2D'\n",
    "\n",
    "RESULTS_PATH_DISH_MONOCULTURE_SUBSET_CELLS = 'path/to/dish/monoculture/files/subset/cells/'\n",
    "RESULTS_PATH_DISH_MONOCULTURE_SUBSET_ENVIRONMENT = 'path/to/dish/monoculture/files/subset/environment/'\n",
    "RESULTS_PATH_DISH_MONOCULTURE_SUBSET_SPATIAL = 'path/to/dish/monoculture/files/subset/spatial/'\n",
    "RESULTS_PATH_DISH_MONOCULTURE_SUBSET_LYSED = 'path/to/dish/monoculture/files/subset/lysed/'\n",
    "\n",
    "DISH_MONOCULTURE_SUBSET_CELLS = '[(TREAT RATIO:50-50),(CAR AFFINITY:1e-7),(ANTIGENS CANCER:1000)];[(DOSE:500),(CAR AFFINITY:1e-7),(ANTIGENS CANCER:1000)];[(DOSE:500),(TREAT RATIO:50-50),(ANTIGENS CANCER:1000)];[(DOSE:500),(TREAT RATIO:50-50),(CAR AFFINITY:1e-7)];[(TREAT RATIO:50-50),(DOSE:500)]'\n",
    "DISH_MONOCULTURE_SUBSET_OTHER = '[(TREAT RATIO:50-50),(CAR AFFINITY:1e-7),(ANTIGENS CANCER:1000)];[(DOSE:500),(CAR AFFINITY:1e-7),(ANTIGENS CANCER:1000)];[(DOSE:500),(TREAT RATIO:50-50),(ANTIGENS CANCER:1000)];[(DOSE:500),(TREAT RATIO:50-50),(CAR AFFINITY:1e-7)]'\n",
    "DISH_MONOCULTURE_ALL = ''\n",
    "\n",
    "# Co-culture dish workspace variables\n",
    "DATA_PATH_DISH_COCULTURE_CELLS = 'path/to/dish/coculture/files/cells/'\n",
    "DATA_PATH_DISH_COCULTURE_ENVIRONMENT = 'path/to/dish/coculture/files/environment/'\n",
    "DATA_PATH_DISH_COCULTURE_SPATIAL = 'path/to/dish/coculture/files/spatial/'\n",
    "DATA_PATH_DISH_COCULTURE_LYSED = 'path/to/dish/coculture/files/lysed/'\n",
    "\n",
    "DISH_COCULTURE_XML_NAME = 'VITRO_DISH_TREAT_CH_2D'\n",
    "\n",
    "RESULTS_PATH_DISH_COCULTURE_SUBSET_CELLS = 'path/to/dish/coculture/files/subset/cells/'\n",
    "RESULTS_PATH_DISH_COCULTURE_SUBSET_ENVIRONMENT = 'path/to/dish/coculture/files/subset/environment/'\n",
    "RESULTS_PATH_DISH_COCULTURE_SUBSET_SPATIAL = 'path/to/dish/coculture/files/subset/spatial/'\n",
    "RESULTS_PATH_DISH_COCULTURE_SUBSET_LYSED = 'path/to/dish/coculture/files/subset/lysed/'\n",
    "\n",
    "DISH_COCULTURE_SUBSET_CELLS_IDEAL_PLUS_HA = '[(TREAT RATIO:50-50),(CAR AFFINITY:1e-7),(ANTIGENS CANCER:1000),(ANTIGENS HEALTHY:0)];[(DOSE:500),(CAR AFFINITY:1e-7),(ANTIGENS CANCER:1000),(ANTIGENS HEALTHY:0)];[(DOSE:500),(TREAT RATIO:50-50),(ANTIGENS CANCER:1000),(ANTIGENS HEALTHY:0)];[(DOSE:500),(TREAT RATIO:50-50),(CAR AFFINITY:1e-7),(ANTIGENS HEALTHY:0)];[(DOSE:500),(TREAT RATIO:50-50),(CAR AFFINITY:1e-7),(ANTIGENS CANCER:1000)];[(TREAT RATIO:50-50),(DOSE:500),(ANTIGENS HEALTHY:0)]'\n",
    "DISH_COCULTURE_SUBSET_CELLS_REALISTIC = '[(TREAT RATIO:50-50),(CAR AFFINITY:1e-7),(ANTIGENS CANCER:1000),(ANTIGENS HEALTHY:100)];[(DOSE:500),(CAR AFFINITY:1e-7),(ANTIGENS CANCER:1000),(ANTIGENS HEALTHY:100)];[(DOSE:500),(TREAT RATIO:50-50),(ANTIGENS CANCER:1000),(ANTIGENS HEALTHY:100)];[(DOSE:500),(TREAT RATIO:50-50),(CAR AFFINITY:1e-7),(ANTIGENS HEALTHY:100)];[(TREAT RATIO:50-50),(DOSE:500),(ANTIGENS HEALTHY:100)]'\n",
    "DISH_COCULTURE_SUBSET_OTHER_IDEAL_PLUS_HA = '[(TREAT RATIO:50-50),(CAR AFFINITY:1e-7),(ANTIGENS CANCER:1000),(ANTIGENS HEALTHY:0)];[(DOSE:500),(CAR AFFINITY:1e-7),(ANTIGENS CANCER:1000),(ANTIGENS HEALTHY:0)];[(DOSE:500),(TREAT RATIO:50-50),(ANTIGENS CANCER:1000),(ANTIGENS HEALTHY:0)];[(DOSE:500),(TREAT RATIO:50-50),(CAR AFFINITY:1e-7),(ANTIGENS HEALTHY:0)];[(DOSE:500),(TREAT RATIO:50-50),(CAR AFFINITY:1e-7),(ANTIGENS CANCER:1000)]'\n",
    "DISH_COCULTURE_SUBSET_OTHER_REALISTIC = '[(TREAT RATIO:50-50),(CAR AFFINITY:1e-7),(ANTIGENS CANCER:1000),(ANTIGENS HEALTHY:100)];[(DOSE:500),(CAR AFFINITY:1e-7),(ANTIGENS CANCER:1000),(ANTIGENS HEALTHY:100)];[(DOSE:500),(TREAT RATIO:50-50),(ANTIGENS CANCER:1000),(ANTIGENS HEALTHY:100)];[(DOSE:500),(TREAT RATIO:50-50),(CAR AFFINITY:1e-7),(ANTIGENS HEALTHY:100)];[(TREAT RATIO:50-50),(ANTIGENS CANCER:1000),(ANTIGENS HEALTHY:100)]'\n",
    "DISH_COCULTURE_ALL = ''\n",
    "\n",
    "# Types of analyses\n",
    "DATA_TYPE_CELLS = 'ANALYZED'\n",
    "DATA_TYPE_ENVIRONMENT = 'ENVIRONMENT'\n",
    "DATA_TYPE_SPATIAL = 'SPATIAL'\n",
    "DATA_TYPE_LYSED = 'LYSED'\n",
    "\n",
    "STATES = True"
   ]
  },
  {
   "cell_type": "markdown",
   "metadata": {},
   "source": [
    "#### SUBEST `MONOCULTURE DISH` AND `CO-CULTURE DISH` SIMULATIONS"
   ]
  },
  {
   "cell_type": "code",
   "execution_count": null,
   "metadata": {
    "collapsed": true
   },
   "outputs": [],
   "source": [
    "import scripts.subset.subset"
   ]
  },
  {
   "cell_type": "code",
   "execution_count": null,
   "metadata": {
    "collapsed": true
   },
   "outputs": [],
   "source": [
    "# Subset monoculture dish data\n",
    "scripts.subset.subset.subset_data(DATA_PATH_DISH_MONOCULTURE_CELLS, DISH_MONOCULTURE_XML_NAME, DATA_TYPE_CELLS, RESULTS_PATH_DISH_MONOCULTURE_SUBSET_CELLS, DISH_MONOCULTURE_SUBSET_CELLS)\n",
    "scripts.subset.subset.subset_data(DATA_PATH_DISH_MONOCULTURE_CELLS, DISH_MONOCULTURE_XML_NAME, DATA_TYPE_CELLS, RESULTS_PATH_DISH_MONOCULTURE_SUBSET_CELLS, DISH_MONOCULTURE_ALL, states=STATES)\n",
    "scripts.subset.subset.subset_data(DATA_PATH_DISH_MONOCULTURE_ENVIRONMENT, DISH_MONOCULTURE_XML_NAME, DATA_TYPE_ENVIRONMENT, RESULTS_PATH_DISH_MONOCULTURE_SUBSET_ENVIRONMENT, DISH_MONOCULTURE_SUBSET_OTHER)\n",
    "scripts.subset.subset.subset_data(DATA_PATH_DISH_MONOCULTURE_SPATIAL, DISH_MONOCULTURE_XML_NAME, DATA_TYPE_SPATIAL, RESULTS_PATH_DISH_MONOCULTURE_SUBSET_SPATIAL, DISH_MONOCULTURE_SUBSET_OTHER)\n",
    "scripts.subset.subset.subset_data(DATA_PATH_DISH_MONOCULTURE_LYSED, DISH_MONOCULTURE_XML_NAME, DATA_TYPE_LYSED, RESULTS_PATH_DISH_MONOCULTURE_SUBSET_LYSED, DISH_MONOCULTURE_SUBSET_OTHER)\n",
    "\n",
    "# Subset co-culture dish data\n",
    "scripts.subset.subset.subset_data(DATA_PATH_DISH_COCULTURE_CELLS, DISH_COCULTURE_XML_NAME, DATA_TYPE_CELLS, RESULTS_PATH_DISH_COCULTURE_SUBSET_CELLS, DISH_COCULTURE_SUBSET_CELLS_IDEAL_PLUS_HA)\n",
    "scripts.subset.subset.subset_data(DATA_PATH_DISH_COCULTURE_CELLS, DISH_COCULTURE_XML_NAME, DATA_TYPE_CELLS, RESULTS_PATH_DISH_COCULTURE_SUBSET_CELLS, DISH_COCULTURE_SUBSET_CELLS_REALISTIC)\n",
    "scripts.subset.subset.subset_data(DATA_PATH_DISH_COCULTURE_CELLS, DISH_COCULTURE_XML_NAME, DATA_TYPE_CELLS, RESULTS_PATH_DISH_COCULTURE_SUBSET_CELLS, DISH_COCULTURE_ALL, states=STATES)\n",
    "scripts.subset.subset.subset_data(DATA_PATH_DISH_COCULTURE_ENVIRONMENT, DISH_COCULTURE_XML_NAME, DATA_TYPE_ENVIRONMENT, RESULTS_PATH_DISH_COCULTURE_SUBSET_ENVIRONMENT, DISH_COCULTURE_SUBSET_OTHER_IDEAL_PLUS_HA)\n",
    "scripts.subset.subset.subset_data(DATA_PATH_DISH_COCULTURE_ENVIRONMENT, DISH_COCULTURE_XML_NAME, DATA_TYPE_ENVIRONMENT, RESULTS_PATH_DISH_COCULTURE_SUBSET_ENVIRONMENT, DISH_COCULTURE_SUBSET_OTHER_REALISTIC)\n",
    "scripts.subset.subset.subset_data(DATA_PATH_DISH_COCULTURE_SPATIAL, DISH_COCULTURE_XML_NAME, DATA_TYPE_SPATIAL, RESULTS_PATH_DISH_COCULTURE_SUBSET_SPATIAL, DISH_COCULTURE_SUBSET_OTHER_IDEAL_PLUS_HA)\n",
    "scripts.subset.subset.subset_data(DATA_PATH_DISH_COCULTURE_SPATIAL, DISH_COCULTURE_XML_NAME, DATA_TYPE_SPATIAL, RESULTS_PATH_DISH_COCULTURE_SUBSET_SPATIAL, DISH_COCULTURE_SUBSET_OTHER_REALISTIC)\n",
    "scripts.subset.subset.subset_data(DATA_PATH_DISH_COCULTURE_LYSED, DISH_COCULTURE_XML_NAME, DATA_TYPE_LYSED, RESULTS_PATH_DISH_COCULTURE_SUBSET_LYSED, DISH_COCULTURE_SUBSET_OTHER_IDEAL_PLUS_HA)\n",
    "scripts.subset.subset.subset_data(DATA_PATH_DISH_COCULTURE_LYSED, DISH_COCULTURE_XML_NAME, DATA_TYPE_LYSED, RESULTS_PATH_DISH_COCULTURE_SUBSET_LYSED, DISH_COCULTURE_SUBSET_OTHER_REALISTIC)"
   ]
  },
  {
   "cell_type": "markdown",
   "metadata": {},
   "source": [
    "---"
   ]
  },
  {
   "cell_type": "markdown",
   "metadata": {},
   "source": [
    "### 2.4 PLOT SUBSETTED  MONOCULTURE AND CO-CULTURE DISH DATA"
   ]
  },
  {
   "cell_type": "markdown",
   "metadata": {},
   "source": [
    "The main plotting function (`plot_data`) iterates through each subsetted file (`.pkl`) in the data path and plots relevant data for each subset instance.\n",
    "\n",
    "The function enables choosing which feature to color the data by. Choosing the color to be `X` will enable the function to automatically color the data based on whichever features are not held constant in the subset (ex, in the example `VITRO_DISH_TREAT_C_2D_X_50-50_1e-07_1000_NA.pkl` for the `monoculture dish` subset from the example above, plots would be colored by `DOSE` value automatically if `X` were selected in place of a specific feature)."
   ]
  },
  {
   "cell_type": "markdown",
   "metadata": {},
   "source": [
    "#### WORKSPACE VARIABLES\n",
    "\n",
    "\n",
    "Set up workspace variables for plotting simulations.\n",
    "\n",
    "+ `DATA_PATH` variables are the path to subsetted data files (`.pkl` files generated by subsetting data)\n",
    "+ `RESULT_PATH` variables are the path for result files (`.svg` files generated by plotting)\n",
    "+ `...COLOR` variables indicate which feature to color the variables by (choosing the color to be `X` will enable the function to automatically color the data based on whichever features are not held constant in the subset)"
   ]
  },
  {
   "cell_type": "code",
   "execution_count": null,
   "metadata": {
    "collapsed": true
   },
   "outputs": [],
   "source": [
    "# Monoculture dish workspace variables\n",
    "DATA_PATH_DISH_MONOCULTURE_SUBSET_CELLS = 'path/to/dish/monoculture/files/subset/cells/'\n",
    "DATA_PATH_DISH_MONOCULTURE_SUBSET_ENVIRONMENT = 'path/to/dish/monoculture/files/subset/environment/'\n",
    "DATA_PATH_DISH_MONOCULTURE_SUBSET_SPATIAL = 'path/to/dish/monoculture/files/subset/spatial/'\n",
    "DATA_PATH_DISH_MONOCULTURE_SUBSET_LYSED = 'path/to/dish/monoculture/files/subset/lysed/'\n",
    "\n",
    "DISH_MONOCULTURE_COLOR = 'X'\n",
    "\n",
    "RESULTS_PATH_DISH_MONOCULTURE_FIGURES_CELLS = 'path/to/dish/monoculture/figures/cells/'\n",
    "RESULTS_PATH_DISH_MONOCULTURE_FIGURES_ENVIRONMENT = 'path/to/dish/monoculture/figures/environment/'\n",
    "RESULTS_PATH_DISH_MONOCULTURE_FIGURES_SPATIAL = 'path/to/dish/monoculture/figures/spatial/'\n",
    "RESULTS_PATH_DISH_MONOCULTURE_FIGURES_LYSED = 'path/to/dish/monoculture/figures/lysed/'\n",
    "\n",
    "# Co-culture dish workspace variables\n",
    "DATA_PATH_DISH_COCULTURE_SUBSET_CELLS = 'path/to/dish/coculture/files/subset/cells/'\n",
    "DATA_PATH_DISH_COCULTURE_SUBSET_ENVIRONMENT = 'path/to/dish/coculture/files/subset/environment/'\n",
    "DATA_PATH_DISH_COCULTURE_SUBSET_SPATIAL = 'path/to/dish/coculture/files/subset/spatial/'\n",
    "DATA_PATH_DISH_COCULTURE_SUBSET_LYSED = 'path/to/dish/coculture/files/subset/lysed/'\n",
    "\n",
    "DISH_COCULTURE_COLOR = 'X'\n",
    "\n",
    "RESULTS_PATH_DISH_COCULTURE_FIGURES_CELLS = 'path/to/dish/coculture/figures/cells/'\n",
    "RESULTS_PATH_DISH_COCULTURE_FIGURES_ENVIRONMENT = 'path/to/dish/coculture/ffigures/environment/'\n",
    "RESULTS_PATH_DISH_COCULTURE_FIGURES_SPATIAL = 'path/to/dish/coculture/figures/spatial/'\n",
    "RESULTS_PATH_DISH_COCULTURE_FIGURES_LYSED = 'path/to/dish/coculture/figures/lysed/'"
   ]
  },
  {
   "cell_type": "markdown",
   "metadata": {},
   "source": [
    "#### PLOT  `MONOCULTURE DISH` AND `CO-CULTURE DISH` SIMULATIONS"
   ]
  },
  {
   "cell_type": "code",
   "execution_count": null,
   "metadata": {
    "collapsed": true
   },
   "outputs": [],
   "source": [
    "import scripts.plot.plot_data"
   ]
  },
  {
   "cell_type": "code",
   "execution_count": null,
   "metadata": {
    "collapsed": true
   },
   "outputs": [],
   "source": [
    "# Plot monoculture dish data\n",
    "scripts.plot.plot_data.plot_data(DATA_PATH_DISH_MONOCULTURE_SUBSET_CELLS, DISH_MONOCULTURE_COLOR, RESULTS_PATH_DISH_MONOCULTURE_FIGURES_CELLS)\n",
    "scripts.plot.plot_data.plot_data(DATA_PATH_DISH_MONOCULTURE_SUBSET_ENVIRONMENT, DISH_MONOCULTURE_COLOR, RESULTS_PATH_DISH_MONOCULTURE_FIGURES_ENVIRONMENT)\n",
    "scripts.plot.plot_data.plot_data(DATA_PATH_DISH_MONOCULTURE_SUBSET_SPATIAL, DISH_MONOCULTURE_COLOR, RESULTS_PATH_DISH_MONOCULTURE_FIGURES_SPATIAL)\n",
    "scripts.plot.plot_data.plot_data(DATA_PATH_DISH_MONOCULTURE_SUBSET_LYSED, DISH_MONOCULTURE_COLOR, RESULTS_PATH_DISH_MONOCULTURE_FIGURES_LYSED)\n",
    "\n",
    "# Plot coculture dish data\n",
    "scripts.plot.plot_data.plot_data(DATA_PATH_DISH_COCULTURE_SUBSET_CELLS, DISH_COCULTURE_COLOR, RESULTS_PATH_DISH_COCULTURE_FIGURES_CELLS)\n",
    "scripts.plot.plot_data.plot_data(DATA_PATH_DISH_COCULTURE_SUBSET_ENVIRONMENT, DISH_COCULTURE_COLOR, RESULTS_PATH_DISH_COCULTURE_FIGURES_ENVIRONMENT)\n",
    "scripts.plot.plot_data.plot_data(DATA_PATH_DISH_COCULTURE_SUBSET_SPATIAL, DISH_COCULTURE_COLOR, RESULTS_PATH_DISH_COCULTURE_FIGURES_SPATIAL)\n",
    "scripts.plot.plot_data.plot_data(DATA_PATH_DISH_COCULTURE_SUBSET_LYSED, DISH_COCULTURE_COLOR, RESULTS_PATH_DISH_COCULTURE_FIGURES_LYSED)"
   ]
  },
  {
   "cell_type": "markdown",
   "metadata": {},
   "source": [
    "#### EXAMPLE FIGURES"
   ]
  },
  {
   "cell_type": "markdown",
   "metadata": {},
   "source": [
    "Example `MONOCULTURE DISH` cell counts figure."
   ]
  },
  {
   "cell_type": "markdown",
   "metadata": {},
   "source": [
    "Example `MONOCULTURE DISH` environment figure."
   ]
  },
  {
   "cell_type": "markdown",
   "metadata": {},
   "source": [
    "Example `MONOCULTURE DISH` spatial figure."
   ]
  },
  {
   "cell_type": "markdown",
   "metadata": {},
   "source": [
    "Example `MONOCULTURE DISH` lysis figure."
   ]
  },
  {
   "cell_type": "markdown",
   "metadata": {},
   "source": [
    "---"
   ]
  },
  {
   "cell_type": "markdown",
   "metadata": {},
   "source": [
    "### 2.5 MULTI-FEATURE & OUTCOME ANALYSIS MONOCULTURE AND CO-CULTURE DISH DATA"
   ]
  },
  {
   "cell_type": "markdown",
   "metadata": {},
   "source": [
    "The main outcome analysis function (`stats`) iterates through each subsetted file (`.pkl`) in the data path and plots and analyzes relevant data for each subset instance.\n",
    "\n",
    "For these analyses, only full data (analyzed by cell counts) subsets were used. Meaning the only relevant files are as follows:\n",
    "\n",
    "    VITRO_DISH_TREAT_C_2D_X_X_X_X_NA_STATES_ANALYZED.pkl\n",
    "    VITRO_DISH_TREAT_CH_2D_X_X_X_X_0_STATES_ANALYZED.pkl\n",
    "    VITRO_DISH_TREAT_CH_2D_X_X_X_X_100_STATES_ANALYZED.pkl\n",
    "    VITRO_DISH_TREAT_CH_2D_X_X_X_X_X_STATES_ANALYZED.pkl"
   ]
  },
  {
   "cell_type": "markdown",
   "metadata": {},
   "source": [
    "#### WORKSPACE VARIABLES\n",
    "\n",
    "Set up workspace variables for plotting simulations.\n",
    "\n",
    "+ `DATA_PATH` variables are the path to subsetted data files (`.pkl` files generated by subsetting data)\n",
    "+ `RESULT_PATH` variables are the path for result files (`.svg` or `.pdf` or `.xlsx` files generated by analyzing the data)\n",
    "+ `AVERAGE` and `NOT_AVERAGE` indicate whether or not to average the data across replicates."
   ]
  },
  {
   "cell_type": "code",
   "execution_count": null,
   "metadata": {
    "collapsed": true
   },
   "outputs": [],
   "source": [
    "# Monoculture dish workspace variables\n",
    "DATA_PATH_DISH_MONOCULTURE_FULL = 'path/to/dish/monoculture/subset/cells/all/'\n",
    "\n",
    "RESULTS_PATH_DISH_MONOCULTURE_STATS = 'path/to/dish/monoculture/stats/figures/'\n",
    "RESULTS_PATH_DISH_MONOCULTURE_STATS_AVERAGE = 'path/to/dish/monoculture/stats/figures/average/'\n",
    "\n",
    "# Co-culture dish workspace variables\n",
    "DATA_PATH_DISH_COCULTURE_FULL = 'path/to/dish/monoculture/subset/cells/all/'\n",
    "DATA_PATH_DISH_COCULTURE_DEFINED_HA = 'path/to/dish/monoculture/subset/cells/defined/healthy/antigens/'\n",
    "\n",
    "RESULTS_PATH_DISH_COCULTURE_STATS = 'path/to/dish/coculture/stats/figures/'\n",
    "RESULTS_PATH_DISH_COCULTURE_STATS_AVERAGE = 'path/to/dish/coculture/stats/figures/average/'\n",
    "\n",
    "# Average workspace variables\n",
    "AVERAGE = True\n",
    "NOT_AVERAGE = False"
   ]
  },
  {
   "cell_type": "markdown",
   "metadata": {},
   "source": [
    "#### ANALYZE `MONOCULTURE DISH` AND `CO-CULTURE DISH` SIMULATIONS"
   ]
  },
  {
   "cell_type": "code",
   "execution_count": null,
   "metadata": {
    "collapsed": true
   },
   "outputs": [],
   "source": [
    "import scripts.stats.stats"
   ]
  },
  {
   "cell_type": "code",
   "execution_count": null,
   "metadata": {
    "collapsed": true
   },
   "outputs": [],
   "source": [
    "scripts.stats.stats.stats(DATA_PATH_DISH_MONOCULTURE_FULL, RESULTS_PATH_DISH_MONOCULTURE_STATS, average=NOT_AVERAGE)\n",
    "scripts.stats.stats.stats(DATA_PATH_DISH_MONOCULTURE_FULL, RESULTS_PATH_DISH_MONOCULTURE_STATS_AVERAGE, average=AVERAGE)\n",
    "scripts.stats.stats.stats(DATA_PATH_DISH_COCULTURE_FULL, RESULTS_PATH_DISH_COCULTURE_STATS, average=NOT_AVERAGE)\n",
    "scripts.stats.stats.stats(DATA_PATH_DISH_COCULTURE_FULL, RESULTS_PATH_DISH_COCULTURE_STATS_AVERAGE, average=AVERAGE)\n",
    "scripts.stats.stats.stats(DATA_PATH_DISH_COCULTURE_DEFINED_HA, RESULTS_PATH_DISH_COCULTURE_STATS, average=NOT_AVERAGE)\n",
    "scripts.stats.stats.stats(DATA_PATH_DISH_COCULTURE_DEFINED_HA, RESULTS_PATH_DISH_COCULTURE_STATS_AVERAGE, average=AVERAGE)"
   ]
  },
  {
   "cell_type": "markdown",
   "metadata": {},
   "source": [
    "#### EXAMPLE FIGURE"
   ]
  },
  {
   "cell_type": "markdown",
   "metadata": {},
   "source": [
    "Example `MONOCULTURE DISH` HEATMAP"
   ]
  },
  {
   "cell_type": "markdown",
   "metadata": {},
   "source": [
    "---"
   ]
  },
  {
   "cell_type": "markdown",
   "metadata": {},
   "source": [
    "## 3. EXPERIMENTAL LITERATURE DATA PLOTTING"
   ]
  },
  {
   "cell_type": "markdown",
   "metadata": {},
   "source": [
    "The main function (`plot_kill_curve_exp_data`) will plot experimental data kill curves using data extracted from a variety of reference papers. Each time this function is run the same output will be produced."
   ]
  },
  {
   "cell_type": "markdown",
   "metadata": {},
   "source": [
    "#### WORKSPACE VARIABLES\n",
    "\n",
    "+ `RESULTS_PATH_EXPERIMENTAL_LITERATURE_KILL_CURVES` variable indicates where to save plots based on extracted data from literature (`.svg` files as a result of plotting)"
   ]
  },
  {
   "cell_type": "code",
   "execution_count": null,
   "metadata": {
    "collapsed": true
   },
   "outputs": [],
   "source": [
    "RESULTS_PATH_EXPERIMENTAL_LITERATURE_KILL_CURVES = 'path/to/figures/experimental/literature/kill/curves/'"
   ]
  },
  {
   "cell_type": "markdown",
   "metadata": {},
   "source": [
    "#### PLOT EXPERIMENTAL LITERATURE DATA"
   ]
  },
  {
   "cell_type": "code",
   "execution_count": null,
   "metadata": {
    "collapsed": true
   },
   "outputs": [],
   "source": [
    "import scripts.plot.plot_data"
   ]
  },
  {
   "cell_type": "code",
   "execution_count": null,
   "metadata": {
    "collapsed": true
   },
   "outputs": [],
   "source": [
    "scripts.plot.plot_data.plot_kill_curve_exp_data(RESULTS_PATH_EXPERIMENTAL_LITERATURE_KILL_CURVES)"
   ]
  },
  {
   "cell_type": "markdown",
   "metadata": {},
   "source": [
    "#### EXAMPLE FIGURE"
   ]
  },
  {
   "cell_type": "markdown",
   "metadata": {},
   "source": [
    "---"
   ]
  },
  {
   "cell_type": "markdown",
   "metadata": {},
   "source": [
    "## 4. TISSUE DATA PROCESSING & PLOTTING"
   ]
  },
  {
   "cell_type": "markdown",
   "metadata": {},
   "source": [
    "Only a subset of `tissue` simulations were generated. This set are those that showed effective treatment in the `realistic co-culture dish` context."
   ]
  },
  {
   "cell_type": "markdown",
   "metadata": {},
   "source": [
    "---"
   ]
  },
  {
   "cell_type": "markdown",
   "metadata": {},
   "source": [
    "### 4.1 PARSE TISSUE DATA"
   ]
  },
  {
   "cell_type": "markdown",
   "metadata": {},
   "source": [
    "The main parsing function (`parse`) iterates through each file in the data path and parses each simulation instance, extracting fields from the simulation setup, cells, and environment.\n",
    "\n",
    "The parsed arrays are organized as:\n",
    "\n",
    "`{\n",
    "    \"setup\": {\n",
    "        \"radius\": R,\n",
    "        \"height\": H,\n",
    "        \"time\": [],\n",
    "        \"pops\": [],\n",
    "        \"types\": [],\n",
    "        \"coords\": []\n",
    "    },\n",
    "    \"agents\": (N seeds) x (T timepoints) x (H height) x (C coordinates) x (P positions),\n",
    "    \"environments\": {\n",
    "        \"glucose\": (N seeds) x (T timepoints) x (H height) x (R radius)\n",
    "        \"oxygen\": (N seeds) x (T timepoints) x (H height) x (R radius)\n",
    "        \"tgfa\": (N seeds) x (T timepoints) x (H height) x (R radius)\n",
    "        \"IL-2\": (N seeds) x (T timepoints) x (H height) x (R radius)\n",
    "    }\n",
    "}\n",
    "`\n",
    "\n",
    "where each entry in the agents array is a structured entry of the shape:\n",
    "\n",
    "`\n",
    "\"pop\"       int8    population code\n",
    "\"type\"      int8    cell type code\n",
    "\"volume\"    int16   cell volume (rounded)\n",
    "\"cycle\"     int16   average cell cycle length (rounded)\n",
    "`\n",
    "The `parse.py` file contains general parsing functions.\n",
    "\n",
    "Parsing can take some time."
   ]
  },
  {
   "cell_type": "markdown",
   "metadata": {},
   "source": [
    "#### WORKSPACE VARIABLES\n",
    "\n",
    "Set up workspace variables for parsing simulations.\n",
    "\n",
    "+ `DATA_PATH` variables are the path to simulaiton output data files (`.tar.xz` files of compressed simulation outputs)\n",
    "+ `RESULT_PATH` variables are the path for result files (`.pkl` files generated by parsing)"
   ]
  },
  {
   "cell_type": "code",
   "execution_count": null,
   "metadata": {
    "collapsed": true
   },
   "outputs": [],
   "source": [
    "DATA_PATH_TISSUE_TAR = 'path/to/tissue/files/tars/'\n",
    "RESULTS_PATH_TISSUE_PKL = 'path/to/tissue/files/pkls/'"
   ]
  },
  {
   "cell_type": "markdown",
   "metadata": {},
   "source": [
    "#### PARSE `TISSUE` SIMULATIONS"
   ]
  },
  {
   "cell_type": "code",
   "execution_count": null,
   "metadata": {
    "collapsed": true
   },
   "outputs": [],
   "source": [
    "import scripts.parse.parse"
   ]
  },
  {
   "cell_type": "code",
   "execution_count": null,
   "metadata": {
    "collapsed": true
   },
   "outputs": [],
   "source": [
    "scripts.parse.parse.parse(DATA_PATH_TISSUE_TAR, RESULTS_PATH_TISSUE_PKL)"
   ]
  },
  {
   "cell_type": "markdown",
   "metadata": {},
   "source": [
    "---"
   ]
  },
  {
   "cell_type": "markdown",
   "metadata": {},
   "source": [
    "### 4.2 ANALYZE PARSED TISSUE DATA"
   ]
  },
  {
   "cell_type": "markdown",
   "metadata": {},
   "source": [
    "Each main analyzing function (`analyze_cells`, `analyze_env`, `analyze_spatial`, and `analyze_lysis`) iterate through each parsed file (`.pkl`) in the data path and analyzes each simulation instance, extracting fields from the simulation setup, cells, and environment depending on the function.\n",
    "\n",
    "`analyze_cells` collects cell counts for each population and state over time (files produced will end with `ANALYSED`).\n",
    "\n",
    "`analyze_env` collects information on environmental species concentrations over time (files produced will end with `ENVIRONMENT`).\n",
    "\n",
    "`analyze_spatial` collects cell counts for each population across simulation radii over time (files produced will end with `SPATIAL`).\n",
    "\n",
    "`analyze_lysis` collects lysed cell information over time (files produced will end with `LYSED`)."
   ]
  },
  {
   "cell_type": "markdown",
   "metadata": {},
   "source": [
    "#### WORKSPACE VARIABLES\n",
    "\n",
    "Set up workspace variables for analyzing simulations.\n",
    "\n",
    "+ `DATA_PATH...PARSED` variables are the path to parsed data files (`.pkl` files generated by parsing)\n",
    "+ `DATA_PATH...LYSIS` variables are the path to `LYSIS` data files (`.LYSIS.json` files generated direclty from the simulation outputs)\n",
    "+ `RESULT_PATH` variables are the path for result files (`.pkl` files generated by analyzing)"
   ]
  },
  {
   "cell_type": "code",
   "execution_count": null,
   "metadata": {
    "collapsed": true
   },
   "outputs": [],
   "source": [
    "# Tissue workspace variables\n",
    "DATA_PATH_TISSUE_PARSED = 'path/to/tissue/files/parsed/'\n",
    "DATA_PATH_TISSUE_LYSIS = 'path/to/tissue/files/lysis/'\n",
    "RESULTS_PATH_TISSUE_CELLS = 'path/to/tissue/files/cells/'\n",
    "RESULTS_PATH_TISSUE_ENVIRONMENT = 'path/to/tissue/files/environment/'\n",
    "RESULTS_PATH_TISSUE_SPATIAL = 'path/to/tissue/files/spatial/'\n",
    "RESULTS_PATH_TISSUE_LYSED = 'path/to/tissue/files/lysed/'"
   ]
  },
  {
   "cell_type": "markdown",
   "metadata": {},
   "source": [
    "#### ANALYZE `TISSUE` SIMULATIONS"
   ]
  },
  {
   "cell_type": "code",
   "execution_count": null,
   "metadata": {
    "collapsed": true
   },
   "outputs": [],
   "source": [
    "import scripts.analyze.analyze_cells\n",
    "import scripts.analyze.analyze_env\n",
    "import scripts.analyze.analyze_spatial\n",
    "import scripts.analyze.analyze_lysis"
   ]
  },
  {
   "cell_type": "code",
   "execution_count": null,
   "metadata": {
    "collapsed": true
   },
   "outputs": [],
   "source": [
    "# Analyze tissue data\n",
    "scripts.analyze.analyze_cells.analyze_cells(DATA_PATH_TISSUE_PARSED, RESULTS_PATH_TISSUE_CELLS)\n",
    "scripts.analyze.analyze_env.analyze_env(DATA_PATH_TISSUE_PARSED, RESULTS_PATH_TISSUE_ENVIRONMENT)\n",
    "scripts.analyze.analyze_spatial.analyze_spatial(DATA_PATH_TISSUE_PARSED, RESULTS_PATH_TISSUE_SPATIAL)\n",
    "scripts.analyze.analyze_lysis.analyze_lysis(DATA_PATH_TISSUE_LYSIS, RESULTS_PATH_TISSUE_LYSED)"
   ]
  },
  {
   "cell_type": "markdown",
   "metadata": {},
   "source": [
    "---"
   ]
  },
  {
   "cell_type": "markdown",
   "metadata": {},
   "source": [
    "### 4.3 SUBSET ANALYZED TISSUE DATA"
   ]
  },
  {
   "cell_type": "markdown",
   "metadata": {},
   "source": [
    "The main subsetting function (`subset_data`) takes in a given desired subset of data and iterates through each analyzed file in the data path (`.pkl`) and adds simulations matching the subset reqiresments to a single data file. Since not all possible combinations of the `tissue` data was collected, only the subset of all data is required."
   ]
  },
  {
   "cell_type": "markdown",
   "metadata": {},
   "source": [
    "#### WORKSPACE VARIABLES\n",
    "\n",
    "Set up workspace variables for subsetting simulations.\n",
    "\n",
    "+ `DATA_PATH` variables are the path to analyzed data files (`.pkl` files generated by analyzing data)\n",
    "+ `RESULT_PATH` variables are the path for result files (`.pkl` files generated by subsetting)\n",
    "+ `TISSUE_XML_NAME` variable is the strings (that vary based on data setup) that will preceed the file name extension (that vary based on subset selected)\n",
    "+ `TISSUE_ALL` variable indicate to collect all data without subsetting\n",
    "+ `DATA_TYPE` variables indicate which type of analyzed data is being fed into the subsetting function\n",
    "+ `STATES` variable enable collecting only the relevant cell count and states data (thus excluding cell distribution data such as volumes and average cell cycle lengths)"
   ]
  },
  {
   "cell_type": "code",
   "execution_count": null,
   "metadata": {
    "collapsed": true
   },
   "outputs": [],
   "source": [
    "# Tissue workspace variables\n",
    "DATA_PATH_TISSUE_CELLS = 'path/to/tissue/files/cells/'\n",
    "DATA_PATH_TISSUE_ENVIRONMENT = 'path/to/tissue/files/environment/'\n",
    "DATA_PATH_TISSUE_SPATIAL = 'path/to/tissue/files/spatial/'\n",
    "DATA_PATH_TISSUE_LYSED = 'path/to/tissue/files/lysed/'\n",
    "\n",
    "TISSUE_XML_NAME = 'VIVO_TISSUE_TREAT_CH_2D'\n",
    "\n",
    "RESULTS_PATH_TISSUE_SUBSET_CELLS = 'path/to/tissue/files/subset/cells/'\n",
    "RESULTS_PATH_TISSUE_SUBSET_ENVIRONMENT = 'path/to/tissue/files/subset/environment/'\n",
    "RESULTS_PATH_TISSUE_SUBSET_SPATIAL = 'path/to/tissue/files/subset/spatial/'\n",
    "RESULTS_PATH_TISSUE_SUBSET_LYSED = 'path/to/tissue/files/subset/lysed/'\n",
    "\n",
    "TISSUE_ALL = ''\n",
    "\n",
    "# Types of analyses\n",
    "DATA_TYPE_CELLS = 'ANALYZED'\n",
    "DATA_TYPE_ENVIRONMENT = 'ENVIRONMENT'\n",
    "DATA_TYPE_SPATIAL = 'SPATIAL'\n",
    "DATA_TYPE_LYSED = 'LYSED'\n",
    "\n",
    "STATES = True"
   ]
  },
  {
   "cell_type": "markdown",
   "metadata": {},
   "source": [
    "#### SUBSET `TISSUE` SIMULATIONS"
   ]
  },
  {
   "cell_type": "code",
   "execution_count": null,
   "metadata": {
    "collapsed": true
   },
   "outputs": [],
   "source": [
    "import scripts.subset.subset"
   ]
  },
  {
   "cell_type": "code",
   "execution_count": null,
   "metadata": {
    "collapsed": true
   },
   "outputs": [],
   "source": [
    "# Subset tissue data\n",
    "scripts.subset.subset.subset_data(DATA_PATH_TISSUE_CELLS, TISSUE_XML_NAME, DATA_TYPE_CELLS, RESULTS_PATH_TISSUE_SUBSET_CELLS, TISSUE_ALL, states=STATES)\n",
    "scripts.subset.subset.subset_data(DATA_PATH_TISSUE_ENVIRONMENT, TISSUE_XML_NAME, DATA_TYPE_ENVIRONMENT, RESULTS_PATH_TISSUE_SUBSET_ENVIRONMENT, TISSUE_ALL)\n",
    "scripts.subset.subset.subset_data(DATA_PATH_TISSUE_SPATIAL, TISSUE_XML_NAME, DATA_TYPE_SPATIAL, RESULTS_PATH_TISSUE_SUBSET_SPATIAL, TISSUE_ALL)\n",
    "scripts.subset.subset.subset_data(DATA_PATH_TISSUE_LYSED, TISSUE_XML_NAME, DATA_TYPE_LYSED, RESULTS_PATH_TISSUE_SUBSET_LYSED, TISSUE_ALL)"
   ]
  },
  {
   "cell_type": "markdown",
   "metadata": {},
   "source": [
    "---"
   ]
  },
  {
   "cell_type": "markdown",
   "metadata": {},
   "source": [
    "### 4.4 PLOT SUBSETTED TISSUE DATA"
   ]
  },
  {
   "cell_type": "markdown",
   "metadata": {},
   "source": [
    "The main plotting function (`plot_data`) iterates through each subsetted file (`.pkl`) in the data path and plots relevant data for each subset instance.\n",
    "\n",
    "The function enables choosing which feature to color the data by. Choosing the color to be `X` will enable the function to automatically color the data based on whichever features are not held constant in the subset. Since not all possible combinations of the `tissue` data was collected, each possible feature will need to be specified (and stored in different locations as the feature color is not stored in the file name)."
   ]
  },
  {
   "cell_type": "markdown",
   "metadata": {},
   "source": [
    "#### WORKSPACE VARIABLES\n",
    "\n",
    "\n",
    "Set up workspace variables for plotting simulations.\n",
    "\n",
    "+ `DATA_PATH` variables are the path to subsetted data files (`.pkl` files generated by subsetting data)\n",
    "+ `RESULT_PATH` variables are the path for result files (`.svg` files generated by plotting) and one for each feature colored by is listed per each type of data plotted\n",
    "+ `TISSUE_COLOR` variables indicate which feature to color the variables by\n",
    "+ `TISSUE_PARTIAL` indicates that only a partial set of a full combinatorial set of features is present and is a flag used for selecting which plots to make."
   ]
  },
  {
   "cell_type": "code",
   "execution_count": null,
   "metadata": {
    "collapsed": true
   },
   "outputs": [],
   "source": [
    "# Tissue workspace variables\n",
    "DATA_PATH_TISSUE_SUBSET_CELLS = 'path/to/tissue/files/subset/cells/'\n",
    "DATA_PATH_TISSUE_SUBSET_ENVIRONMENT = 'path/to/tissue/files/subset/environment/'\n",
    "DATA_PATH_TISSUE_SUBSET_SPATIAL = 'path/to/tissue/files/subset/spatial/'\n",
    "DATA_PATH_TISSUE_SUBSET_LYSED = 'path/to/tissue/files/subset/lysed/'\n",
    "\n",
    "TISSUE_COLOR_DOSE = 'DOSE'\n",
    "TISSUE_COLOR_TREAT_RATIO = 'TREAT RATIO'\n",
    "TISSUE_COLOR_CAR_AFFINITY = 'CAR AFFINITY'\n",
    "TISSUE_COLOR_ANTIGENS_CANCER = 'ANTIGENS CANCER'\n",
    "\n",
    "RESULTS_PATH_TISSUE_FIGURES_CELLS_DOSE = 'path/to/dish/coculture/figures/cells/dose/'\n",
    "RESULTS_PATH_TISSUE_FIGURES_CELLS_TREAT_RATIO = 'path/to/dish/coculture/figures/cells/treat/ratio/'\n",
    "RESULTS_PATH_TISSUE_FIGURES_CELLS_CAR_AFFINITY = 'path/to/dish/coculture/figures/cells/car/affinity/'\n",
    "RESULTS_PATH_TISSUE_FIGURES_CELLS_ANTIGENS_CANCER = 'path/to/dish/coculture/figures/cells/antigens/cancer/'\n",
    "\n",
    "RESULTS_PATH_TISSUE_FIGURES_ENVIRONMENT_DOSE = 'path/to/dish/coculture/figures/environment/dose/'\n",
    "RESULTS_PATH_TISSUE_FIGURES_ENVIRONMENT_TREAT_RATIO = 'path/to/dish/coculture/figures/environment/treat/ratio/'\n",
    "RESULTS_PATH_TISSUE_FIGURES_ENVIRONMENT_CAR_AFFINITY = 'path/to/dish/coculture/figures/environment/car/affinity/'\n",
    "RESULTS_PATH_TISSUE_FIGURES_ENVIRONMENT_ANTIGENS_CANCER = 'path/to/dish/coculture/figures/environment/antigens/cancer/'\n",
    "\n",
    "RESULTS_PATH_TISSUE_FIGURES_SPATIAL_DOSE = 'path/to/dish/coculture/figures/spatial/dose/'\n",
    "RESULTS_PATH_TISSUE_FIGURES_SPATIAL_TREAT_RATIO = 'path/to/dish/coculture/figures/spatial/treat/ratio/'\n",
    "RESULTS_PATH_TISSUE_FIGURES_SPATIAL_CAR_AFFINITY = 'path/to/dish/coculture/figures/spatial/car/affinity/'\n",
    "RESULTS_PATH_TISSUE_FIGURES_SPATIAL_ANTIGENS_CANCER = 'path/to/dish/coculture/figures/spatial/antigens/cancer/'\n",
    "\n",
    "RESULTS_PATH_TISSUE_FIGURES_LYSED_DOSE = 'path/to/dish/coculture/figures/lysed/dose/'\n",
    "RESULTS_PATH_TISSUE_FIGURES_LYSED_TREAT_RATIO = 'path/to/dish/coculture/figures/lysed/treat/ratio/'\n",
    "RESULTS_PATH_TISSUE_FIGURES_LYSED_CAR_AFFINITY = 'path/to/dish/coculture/figures/lysed/car/affinity/'\n",
    "RESULTS_PATH_TISSUE_FIGURES_LYSED_ANTIGENS_CANCER = 'path/to/dish/coculture/figures/lysed/antigens/cancer/'\n",
    "\n",
    "TISSUE_PARTIAL = True"
   ]
  },
  {
   "cell_type": "markdown",
   "metadata": {},
   "source": [
    "#### PLOT `TISSUE` SIMULATIONS"
   ]
  },
  {
   "cell_type": "code",
   "execution_count": null,
   "metadata": {
    "collapsed": true
   },
   "outputs": [],
   "source": [
    "import scripts.plot.plot_data"
   ]
  },
  {
   "cell_type": "code",
   "execution_count": null,
   "metadata": {
    "collapsed": true
   },
   "outputs": [],
   "source": [
    "# Plot tissue data\n",
    "scripts.plot.plot_data.plot_data(DATA_PATH_TISSUE_SUBSET_CELLS, TISSUE_COLOR_DOSE, RESULTS_PATH_TISSUE_FIGURES_CELLS_DOSE, partial=TISSUE_PARTIAL)\n",
    "scripts.plot.plot_data.plot_data(DATA_PATH_TISSUE_SUBSET_CELLS, TISSUE_COLOR_TREAT_RATIO, RESULTS_PATH_TISSUE_FIGURES_CELLS_TREAT_RATIO, partial=TISSUE_PARTIAL)\n",
    "scripts.plot.plot_data.plot_data(DATA_PATH_TISSUE_SUBSET_CELLS, TISSUE_COLOR_CAR_AFFINITY, RESULTS_PATH_TISSUE_FIGURES_CELLS_CAR_AFFINITY, partial=TISSUE_PARTIAL)\n",
    "scripts.plot.plot_data.plot_data(DATA_PATH_TISSUE_SUBSET_CELLS, TISSUE_COLOR_ANTIGENS_CANCER, RESULTS_PATH_TISSUE_FIGURES_CELLS_ANTIGENS_CANCER, partial=TISSUE_PARTIAL)\n",
    "\n",
    "scripts.plot.plot_data.plot_data(DATA_PATH_TISSUE_SUBSET_ENVIRONMENT, TISSUE_COLOR_DOSE, RESULTS_PATH_TISSUE_FIGURES_ENVIRONMENT_DOSE, partial=TISSUE_PARTIAL)\n",
    "scripts.plot.plot_data.plot_data(DATA_PATH_TISSUE_SUBSET_ENVIRONMENT, TISSUE_COLOR_TREAT_RATIO, RESULTS_PATH_TISSUE_FIGURES_ENVIRONMENT_TREAT_RATIO, partial=TISSUE_PARTIAL)\n",
    "scripts.plot.plot_data.plot_data(DATA_PATH_TISSUE_SUBSET_ENVIRONMENT, TISSUE_COLOR_CAR_AFFINITY, RESULTS_PATH_TISSUE_FIGURES_ENVIRONMENT_CAR_AFFINITY, partial=TISSUE_PARTIAL)\n",
    "scripts.plot.plot_data.plot_data(DATA_PATH_TISSUE_SUBSET_ENVIRONMENT, TISSUE_COLOR_ANTIGENS_CANCER, RESULTS_PATH_TISSUE_FIGURES_ENVIRONMENT_ANTIGENS_CANCER, partial=TISSUE_PARTIAL)\n",
    "\n",
    "scripts.plot.plot_data.plot_data(DATA_PATH_TISSUE_SUBSET_SPATIAL, TISSUE_COLOR_DOSE, RESULTS_PATH_TISSUE_FIGURES_SPATIAL_DOSE, partial=TISSUE_PARTIAL)\n",
    "scripts.plot.plot_data.plot_data(DATA_PATH_TISSUE_SUBSET_SPATIAL, TISSUE_COLOR_TREAT_RATIO, RESULTS_PATH_TISSUE_FIGURES_SPATIAL_TREAT_RATIO, partial=TISSUE_PARTIAL)\n",
    "scripts.plot.plot_data.plot_data(DATA_PATH_TISSUE_SUBSET_SPATIAL, TISSUE_COLOR_CAR_AFFINITY, RESULTS_PATH_TISSUE_FIGURES_SPATIAL_CAR_AFFINITY, partial=TISSUE_PARTIAL)\n",
    "scripts.plot.plot_data.plot_data(DATA_PATH_TISSUE_SUBSET_SPATIAL, TISSUE_COLOR_ANTIGENS_CANCER, RESULTS_PATH_TISSUE_FIGURES_SPATIAL_ANTIGENS_CANCER, partial=TISSUE_PARTIAL)\n",
    "\n",
    "scripts.plot.plot_data.plot_data(DATA_PATH_TISSUE_SUBSET_LYSED, TISSUE_COLOR_DOSE, RESULTS_PATH_TISSUE_FIGURES_LYSED_DOSE, partial=TISSUE_PARTIAL)\n",
    "scripts.plot.plot_data.plot_data(DATA_PATH_TISSUE_SUBSET_LYSED, TISSUE_COLOR_TREAT_RATIO, RESULTS_PATH_TISSUE_FIGURES_LYSED_TREAT_RATIO, partial=TISSUE_PARTIAL)\n",
    "scripts.plot.plot_data.plot_data(DATA_PATH_TISSUE_SUBSET_LYSED, TISSUE_COLOR_CAR_AFFINITY, RESULTS_PATH_TISSUE_FIGURES_LYSED_CAR_AFFINITY, partial=TISSUE_PARTIAL)\n",
    "scripts.plot.plot_data.plot_data(DATA_PATH_TISSUE_SUBSET_LYSED, TISSUE_COLOR_ANTIGENS_CANCER, RESULTS_PATH_TISSUE_FIGURES_LYSED_ANTIGENS_CANCER, partial=TISSUE_PARTIAL)"
   ]
  },
  {
   "cell_type": "markdown",
   "metadata": {},
   "source": [
    "#### EXAMPLE FIGURES"
   ]
  },
  {
   "cell_type": "markdown",
   "metadata": {},
   "source": [
    "Example `TISSUE` cell counts figure."
   ]
  },
  {
   "cell_type": "markdown",
   "metadata": {},
   "source": [
    "Example `TISSUE` environment figure."
   ]
  },
  {
   "cell_type": "markdown",
   "metadata": {},
   "source": [
    "Example `TISSUE` spatial figure."
   ]
  },
  {
   "cell_type": "markdown",
   "metadata": {},
   "source": [
    "Example `TISSUE` lysis figure."
   ]
  },
  {
   "cell_type": "markdown",
   "metadata": {},
   "source": [
    "---"
   ]
  },
  {
   "cell_type": "markdown",
   "metadata": {},
   "source": [
    "### 4.5 MULTI-FEATURE & OUTCOME ANALYSIS TISSUE DATA"
   ]
  },
  {
   "cell_type": "markdown",
   "metadata": {},
   "source": [
    "The main outcome analysis function (`stats`) iterates through each subsetted file (`.pkl`) in the data path and plots and analyzes relevant data for each subset instance.\n",
    "\n",
    "For these analyses, only full data (analyzed by cell counts) subsets were used. Meaning the only relevant file is as follows:\n",
    "\n",
    "    VIVO_TISSUE_TREAT_C_2D_X_X_X_X_X_STATES_ANALYZED.pkl"
   ]
  },
  {
   "cell_type": "markdown",
   "metadata": {},
   "source": [
    "#### WORKSPACE VARIABLES\n",
    "\n",
    "Set up workspace variables for plotting simulations.\n",
    "\n",
    "+ `DATA_PATH` variables are the path to subsetted data files (`.pkl` files generated by subsetting data)\n",
    "+ `RESULT_PATH` variables are the path for result files (`.svg` or `.pdf` or `.xlsx` files generated by analyzing the data)\n",
    "+ `TISSUE_PARTIAL` indicates that only a partial set of a full combinatorial set of features is present and is a flag used for selecting which plots to make.\n",
    "+ `AVERAGE` and `NOT_AVERAGE` indicate whether or not to average the data across replicates."
   ]
  },
  {
   "cell_type": "code",
   "execution_count": null,
   "metadata": {
    "collapsed": true
   },
   "outputs": [],
   "source": [
    "# Tissue workspace variables\n",
    "DATA_PATH_TISSUE_PARTIAL = '/path/to/tissue/subset/cells/partial/'\n",
    "\n",
    "RESULTS_PATH_TISSUE_STATS = 'path/to/tissue/stats/figures/'\n",
    "RESULTS_PATH_TISSUE_STATS_AVERAGE = 'path/to/tissue/stats/figures/average/'\n",
    "\n",
    "TISSUE_PARTIAL = True\n",
    "\n",
    "# Average workspace variables\n",
    "AVERAGE = True\n",
    "NOT_AVERAGE = False"
   ]
  },
  {
   "cell_type": "markdown",
   "metadata": {},
   "source": [
    "####  ANALYZE `TISSUE` SIMULATIONS"
   ]
  },
  {
   "cell_type": "code",
   "execution_count": null,
   "metadata": {
    "collapsed": true
   },
   "outputs": [],
   "source": [
    "import scripts.stats.stats"
   ]
  },
  {
   "cell_type": "code",
   "execution_count": null,
   "metadata": {
    "collapsed": true
   },
   "outputs": [],
   "source": [
    "scripts.stats.stats.stats(DATA_PATH_TISSUE_PARTIAL, RESULTS_PATH_TISSUE_STATS, partial=TISSUE_PARTIAL, average=NOT_AVERAGE)\n",
    "scripts.stats.stats.stats(DATA_PATH_TISSUE_PARTIAL, RESULTS_PATH_TISSUE_STATS_AVERAGE, partial=TISSUE_PARTIAL, average=AVERAGE)"
   ]
  },
  {
   "cell_type": "markdown",
   "metadata": {},
   "source": [
    "#### EXAMPLE FIGURE"
   ]
  },
  {
   "cell_type": "markdown",
   "metadata": {},
   "source": [
    "Example `TISSUE` heatmap."
   ]
  },
  {
   "cell_type": "markdown",
   "metadata": {},
   "source": [
    "---"
   ]
  },
  {
   "cell_type": "markdown",
   "metadata": {},
   "source": [
    "## 5. RANKED DATA PLOTTING"
   ]
  },
  {
   "cell_type": "markdown",
   "metadata": {},
   "source": [
    "After finding the effective treatments from the `realistic co-culture dish` context and analyzing them in `tissue`, a score and rank for each simulation (averaged across replicates) were provided in both contexts and combined into a single `.xlsx` file for analysis.\n",
    "\n",
    "The main function `plot_dish_tissue_compare_data` takes this `.xlsx` file as an input and generates parity and ladder plots for the rank and score of these simulations in the `dish` compared to the the `tissue` context."
   ]
  },
  {
   "cell_type": "markdown",
   "metadata": {},
   "source": [
    "#### WORKSPACE VARIALBLES\n",
    "\n",
    "+ `DATA_PATH` variables are the path to excel data file (`.xlsx` file generated for this analysis)\n",
    "+ `RESULT_PATH` variables are the path for result files (`.svg` files generated by plotting the data)\n",
    "+ `COMPARE_COLOR` variables indicate which feature to color the variables by (choosing the color to be `X` will enable the function to automatically color the data based on each feature)"
   ]
  },
  {
   "cell_type": "code",
   "execution_count": null,
   "metadata": {
    "collapsed": true
   },
   "outputs": [],
   "source": [
    "DATA_PATH_COMPARE_DISH_TISSUE_EXCEL = 'path/to/dish/tissue/compare/excel/file/file.xlsx'\n",
    "RESULTS_PATH_COMPARE_DISH_TISSUE_FIGURES = 'path/to/dish/tissue/compare/figures/'\n",
    "\n",
    "COMPARE_COLOR = 'X'"
   ]
  },
  {
   "cell_type": "markdown",
   "metadata": {},
   "source": [
    "#### COMPARE `REALISTIC CO-CULTURE DISH` AND `TISSUE` DATA"
   ]
  },
  {
   "cell_type": "code",
   "execution_count": null,
   "metadata": {
    "collapsed": true
   },
   "outputs": [],
   "source": [
    "import scripts.plot.plot_data"
   ]
  },
  {
   "cell_type": "code",
   "execution_count": null,
   "metadata": {
    "collapsed": true
   },
   "outputs": [],
   "source": [
    "scripts.plot.plot_data.plot_dish_tissue_compare_data(DATA_PATH_COMPARE_DISH_TISSUE_EXCEL, COMPARE_COLOR, RESULTS_PATH_COMPARE_DISH_TISSUE_FIGURES)"
   ]
  },
  {
   "cell_type": "markdown",
   "metadata": {},
   "source": [
    "#### EXAMPLE FIGURE"
   ]
  },
  {
   "cell_type": "markdown",
   "metadata": {},
   "source": [
    "Example rank comparison figure."
   ]
  },
  {
   "cell_type": "markdown",
   "metadata": {},
   "source": [
    "---"
   ]
  },
  {
   "cell_type": "markdown",
   "metadata": {},
   "source": [
    "## 6. CO-CULTURE DISH AND TISSUE SHARED LOCS DATA PROCESSING & PLOTTING"
   ]
  },
  {
   "cell_type": "markdown",
   "metadata": {},
   "source": [
    "To further analyze the spatial differences between the dish and tissue contexts, an additional analysis on the effective treatments is compared to show the cell state dynamics over time for only those CAR T-cells that share locations with at least one cancer cell. This analysis pipeline paraells that for the full analyses above but a different type of data is collected at the analysis stage."
   ]
  },
  {
   "cell_type": "markdown",
   "metadata": {},
   "source": [
    "---"
   ]
  },
  {
   "cell_type": "markdown",
   "metadata": {},
   "source": [
    "### 6.1 ANALYZE PARSED CO-CULTURE DISH AND TISSUE SHARED LOCS DATA"
   ]
  },
  {
   "cell_type": "markdown",
   "metadata": {},
   "source": [
    "The main analyzing function used in this analysis (`analyze_cells`) iterates through each parsed file (`.pkl`) in the data path and analyzes each simulation instance, extracting fields from the simulation setup, cells, and environment depending on the function.\n",
    "\n",
    "`analyze_cells` collects cell counts for each population and state over time (files produced will end with `ANALYSED`).\n",
    "\n",
    "When the `sharedLocs` flag is set to `True`, only the data for CAR T-cells that share a location with at least one cancer cell is collected. When this flag is used, files produced will end with `SHAREDLOCS`."
   ]
  },
  {
   "cell_type": "markdown",
   "metadata": {},
   "source": [
    "#### WORKSPACE VARIABLES\n",
    "\n",
    "Set up workspace variables for analyzing simulations.\n",
    "\n",
    "+ `DATA_PATH...PARSED` variables are the path to parsed data files (`.pkl` files generated by parsing), where for the `co-culture dish` data, one may need to manually put the effective treatment files into a folder separate from the rest of the data.\n",
    "+ `RESULT_PATH` variables are the path for result files (`.pkl` files generated by analyzing)\n",
    "+ `SHARED_LOCATIONS` indicates to only collect data for CAR T-cells that share a location with at least one cancer cell."
   ]
  },
  {
   "cell_type": "code",
   "execution_count": null,
   "metadata": {
    "collapsed": true
   },
   "outputs": [],
   "source": [
    "# Co-culture dish effective treatment workspace variables\n",
    "DATA_PATH_DISH_COCULTURE_EFFECTIVE_TREATMENTS = 'path/to/dish/coculture/files/effective/treatments/parsed/'\n",
    "RESULTS_PATH_DISH_COCULTURE_EFFECTIVE_TREATMENTS_SHAREDLOCS = 'path/to/dish/coculture/files/effective/treatments/sharedlocs/'\n",
    "\n",
    "# Tissue effective treatment workspace variables\n",
    "DATA_PATH_TISSUE_PARSED = 'path/to/tissue/files/parsed/'\n",
    "RESULTS_PATH_TISSUE_SHAREDLOCS = 'path/to/tissue/files/sharedlocs/'\n",
    "\n",
    "# Shared locations workspace variables\n",
    "SHARED_LOCATIONS = True"
   ]
  },
  {
   "cell_type": "markdown",
   "metadata": {},
   "source": [
    "#### ANALYZE EFFECTIVE TREATMENT `REALISTIC CO-CULTURE DISH` AND `TISSUE` SIMULATIONS"
   ]
  },
  {
   "cell_type": "code",
   "execution_count": null,
   "metadata": {
    "collapsed": true
   },
   "outputs": [],
   "source": [
    "import scripts.analyze.analyze_cells"
   ]
  },
  {
   "cell_type": "code",
   "execution_count": null,
   "metadata": {
    "collapsed": true
   },
   "outputs": [],
   "source": [
    "scripts.analyze.analyze_cells.analyze_cells(DATA_PATH_DISH_COCULTURE_EFFECTIVE_TREATMENTS, RESULTS_PATH_DISH_COCULTURE_EFFECTIVE_TREATMENTS_SHAREDLOCS, sharedLocs=SHARED_LOCATIONS)\n",
    "scripts.analyze.analyze_cells.analyze_cells(DATA_PATH_TISSUE_PARSED, RESULTS_PATH_TISSUE_SHAREDLOCS, sharedLocs=SHARED_LOCATIONS)"
   ]
  },
  {
   "cell_type": "markdown",
   "metadata": {},
   "source": [
    "---"
   ]
  },
  {
   "cell_type": "markdown",
   "metadata": {},
   "source": [
    "### 6.2 SUBSET ANALYZED CO-CULTURE DISH AND TISSUE SHARED LOCS DATA"
   ]
  },
  {
   "cell_type": "markdown",
   "metadata": {},
   "source": [
    "The main subsetting function (`subset_data`) takes in a given desired subset of data and iterates through each analyzed file in the data path (`.pkl`) and adds simulations matching the subset reqiresments to a single data file. Since not all possible combinations of the `tissue` data was collected and only the effective treatment `realistic co-culture dish` are desired, only the subset of all data is required."
   ]
  },
  {
   "cell_type": "markdown",
   "metadata": {},
   "source": [
    "#### WORKSPACE VARIABLES\n",
    "\n",
    "Set up workspace variables for subsetting simulations.\n",
    "\n",
    "+ `DATA_PATH` variables are the path to analyzed data files (`.pkl` files generated by analyzing data)\n",
    "+ `RESULT_PATH` variables are the path for result files (`.pkl` files generated by subsetting)\n",
    "+ `..._XML_NAME` variables are the strings (that vary based on data setup) that will preceed the file name extension (that vary based on subset selected)\n",
    "+ `SHAREDLOCS_ALL` variable indicate to collect all data without subsetting\n",
    "+ `DATA_TYPE` variables indicate which type of analyzed data is being fed into the subsetting function\n",
    "+ `STATES` variable enable collecting only the relevant cell count and states data (thus excluding cell distribution data such as volumes and average cell cycle lengths)"
   ]
  },
  {
   "cell_type": "code",
   "execution_count": null,
   "metadata": {
    "collapsed": true
   },
   "outputs": [],
   "source": [
    "# Co-culture dish effective treatment workspace variables\n",
    "DATA_PATH_DISH_COCULTURE_EFFECTIVE_TREATMENTS_SHAREDLOCS = 'path/to/dish/coculture/files/effective/treatments/sharedlocs/'\n",
    "\n",
    "DISH_COCULTURE_XML_NAME = 'VITRO_DISH_TREAT_CH_2D'\n",
    "\n",
    "RESULTS_PATH_COCULTURE_EFFECTIVE_TREATMENTS_SUBSET_SHAREDLOCS = 'path/to/dish/coculture/subest/effective/treatments/sharedlocs/'\n",
    "\n",
    "# Tissue effective treatment workspace variables\n",
    "DATA_PATH_TISSUE_SHAREDLOCS = 'path/to/tissue/files/sharedlocs/'\n",
    "\n",
    "TISSUE_XML_NAME = 'VIVO_TISSUE_TREAT_CH_2D'\n",
    "\n",
    "RESULTS_PATH_TISSUE_SUBSET_SHAREDLOCS = 'path/to/tissue/subset/sharedlocs/'\n",
    "\n",
    "# Shared locations workspace variables\n",
    "DATA_TYPE_SHAREDLOCS = 'SHAREDLOCS'\n",
    "SHAREDLOCS_ALL = ''\n",
    "STATES = True"
   ]
  },
  {
   "cell_type": "markdown",
   "metadata": {},
   "source": [
    "#### SUBSET EFFECTIVE TREATMENT `REALISTIC CO-CULTURE DISH` AND `TISSUE` SIMULATIONS"
   ]
  },
  {
   "cell_type": "code",
   "execution_count": null,
   "metadata": {
    "collapsed": true
   },
   "outputs": [],
   "source": [
    "import scripts.subset.subset"
   ]
  },
  {
   "cell_type": "code",
   "execution_count": null,
   "metadata": {
    "collapsed": true
   },
   "outputs": [],
   "source": [
    "scripts.subset.subset.subset_data(DATA_PATH_DISH_COCULTURE_EFFECTIVE_TREATMENTS_SHAREDLOCS, DISH_COCULTURE_XML_NAME, DATA_TYPE_SHAREDLOCS, RESULTS_PATH_COCULTURE_EFFECTIVE_TREATMENTS_SUBSET_SHAREDLOCS, subsetsRequested=SHAREDLOCS_ALL, states=STATES)\n",
    "scripts.subset.subset.subset_data(DATA_PATH_TISSUE_SHAREDLOCS, TISSUE_XML_NAME, DATA_TYPE_SHAREDLOCS, RESULTS_PATH_TISSUE_SUBSET_SHAREDLOCS, subsetsRequested=SHAREDLOCS_ALL, states=STATES)"
   ]
  },
  {
   "cell_type": "markdown",
   "metadata": {},
   "source": [
    "---"
   ]
  },
  {
   "cell_type": "markdown",
   "metadata": {},
   "source": [
    "### 6.3 PLOT CO-CULTURE DISH AND TISSUE SHARED LOCS DATA"
   ]
  },
  {
   "cell_type": "markdown",
   "metadata": {},
   "source": [
    "The main plotting function (`plot_data`) iterates through each subsetted file (`.pkl`) in the data path and plots relevant data for each subset instance.\n",
    "\n",
    "The function enables choosing which feature to color the data by. Choosing the color to be `X` will enable the function to automatically color the data based on whichever features are not held constant in the subset. Since not all possible combinations of the `tissue` data was collected and only the effective treatment `realistic co-culture dish` are desired, each desired feature to color by will need to be specified (and stored in different locations as the feature color is not stored in the file name). In this analysis, only `ANTIGENS CANCER` was used."
   ]
  },
  {
   "cell_type": "markdown",
   "metadata": {},
   "source": [
    "#### WORKSPACE VARIABLES\n",
    "\n",
    "\n",
    "Set up workspace variables for plotting simulations.\n",
    "\n",
    "+ `DATA_PATH` variables are the path to subsetted data files (`.pkl` files generated by subsetting data)\n",
    "+ `RESULT_PATH` variables are the path for result files (`.svg` files generated by plotting) and one for each feature colored by is listed per each type of data plotted\n",
    "+ `SHAREDLOCS_COLOR` variables indicate which feature to color the variables by\n",
    "+ `SHAREDLOCS_PARTIAL` indicates that only a partial set of a full combinatorial set of features is present and is a flag used for selecting which plots to make."
   ]
  },
  {
   "cell_type": "code",
   "execution_count": null,
   "metadata": {
    "collapsed": true
   },
   "outputs": [],
   "source": [
    "# Co-culture dish effective treatment workspace variables\n",
    "DATA_PATH_DISH_COCULTURE_EFFECTIVE_TREATMENTS_SUBSET_SHAREDLOCS = 'path/to/dish/coculture/subset/effective/treatments/sharedlocs/'\n",
    "RESULTS_PATH_COCULTURE_EFFECTIVE_TREATMENTS_FIGURES_SHAREDLOCS = 'path/to/dish/coculture/figures/effective/treatments/sharedlocs/'\n",
    "\n",
    "# Tissue effective treatment workspace variables\n",
    "DATA_PATH_TISSUE_SUBSET_SHAREDLOCS = 'path/to/tissue/subset/sharedlocs/'\n",
    "RESULTS_PATH_TISSUE_FIGURES_SHAREDLOCS = 'path/to/tissue/figures/sharedlocs/'\n",
    "\n",
    "# Shared locations workspace variables\n",
    "SHAREDLOCS_COLOR = 'ANTIGENS CANCER'\n",
    "SHAREDLOCS_PARTIAL = True"
   ]
  },
  {
   "cell_type": "markdown",
   "metadata": {},
   "source": [
    "#### PLOT EFFECTIVE TREATMENT `REALISTIC CO-CULTURE DISH` AND `TISSUE` SIMULATIONS"
   ]
  },
  {
   "cell_type": "code",
   "execution_count": null,
   "metadata": {
    "collapsed": true
   },
   "outputs": [],
   "source": [
    "import scripts.plot.plot_data"
   ]
  },
  {
   "cell_type": "code",
   "execution_count": null,
   "metadata": {
    "collapsed": true
   },
   "outputs": [],
   "source": [
    "scripts.plot.plot_data.plot_data(DATA_PATH_DISH_COCULTURE_EFFECTIVE_TREATMENTS_SUBSET_SHAREDLOCS, SHAREDLOCS_COLOR, RESULTS_PATH_COCULTURE_EFFECTIVE_TREATMENTS_FIGURES_SHAREDLOCS, partial=SHAREDLOCS_PARTIAL)\n",
    "scripts.plot.plot_data.plot_data(DATA_PATH_TISSUE_SUBSET_SHAREDLOCS, SHAREDLOCS_COLOR, RESULTS_PATH_TISSUE_FIGURES_SHAREDLOCS, partial=SHAREDLOCS_PARTIAL)"
   ]
  },
  {
   "cell_type": "markdown",
   "metadata": {},
   "source": [
    "#### EXAMPLE FIGURE"
   ]
  },
  {
   "cell_type": "markdown",
   "metadata": {},
   "source": [
    "Example `TISSUE` shared locations states data."
   ]
  },
  {
   "cell_type": "markdown",
   "metadata": {},
   "source": [
    "---"
   ]
  },
  {
   "cell_type": "markdown",
   "metadata": {},
   "source": [
    "## 7. CO-CULTURE, TISSUE, AND GRAPH IMAGING"
   ]
  },
  {
   "cell_type": "markdown",
   "metadata": {},
   "source": [
    "Images of the simulations in each context are generated to highlight the differences in cancer and healthy cell spatial distributions over time.\n",
    "\n",
    "The main function `image` takes in a `.json` file output from the simulation and produces an image of either the populations, cell states, volume density, or graphs. For this analysis, only the population and graph figures were used. \n",
    "\n",
    "The population images were generated for the following files:\n",
    "    \n",
    "    VITRO_DISH_TREAT_CH_0_NA_NA_1000_100_00.json\n",
    "    VIVO_TISSUE_TREAT_CH_0_NA_NA_1000_100_00.json\n",
    "\n",
    "The graph images were generated for the following file:\n",
    "\n",
    "    VIVO_TISSUE_TREAT_CH_0_NA_NA_1000_100_00.GRAPH.json\n",
    "    \n",
    "These represent the untreated `realistic co-culture dish` and `tissue` simulations."
   ]
  },
  {
   "cell_type": "markdown",
   "metadata": {},
   "source": [
    "#### WORKSPACE VARIABLES\n",
    "\n",
    "+ `DATA_PATH` variables are the path to subsetted data files (`.json` files generated from simulation output)\n",
    "+ `...TIMES` variables indicate which time points to make images at\n",
    "+ `SIZE` variable indicates the size to make the image\n",
    "+ `POPS_TO_IGNORE` indicate which cell population nubmers to ignore (where CAR T-cell populations are listed, but are not present in these untreated simulations)\n",
    "+ `BGCOL` indicates what color to make the background of the image\n",
    "+ `RADIUS` indicates the simulation radius out which to draw to (cells stop at radius 36, but the grpah exists within the margins and out to the full radius of 40)"
   ]
  },
  {
   "cell_type": "code",
   "execution_count": null,
   "metadata": {
    "collapsed": true
   },
   "outputs": [],
   "source": [
    "# Untreated co-culture dish images\n",
    "DATA_PATH_IMAGE_UNTREATED_COCULTURE_CELLS = 'path/to/untreated/coculture/cells/json/to/image/'\n",
    "DATA_PATH_IMAGE_UNTREATED_COCULTURE_SVG = 'path/to/untreated/coculture/svg/to/save/'\n",
    "DISH_TIMES = '0,4,7'\n",
    "\n",
    "# Untreated tissue images\n",
    "DATA_PATH_IMAGE_UNTREATED_TISSUE_CELLS = 'path/to/untreated/tissue/cells/json/to/image/'\n",
    "DATA_PATH_IMAGE_UNTREATED_TISSUE_SVG = 'path/to/untreated/tissue/svg/to/save/'\n",
    "TISSUE_TIMES = '1,16,31'\n",
    "\n",
    "# Population image specifications\n",
    "SIZE = '5'\n",
    "POPS_TO_IGNORE = '2,3'\n",
    "BGCOL = '#FFFFFF'\n",
    "RADIUS = '40'\n",
    "\n",
    "# Tissue graph image specifications\n",
    "DATA_PATH_IMAGE_UNTREATED_TISSUE_GRAPH = 'path/to/untreated/tissue/graph/json/to/image/'\n",
    "DATA_PATH_IMAGE_UNTREATED_TISSUE_SVG = 'path/to/untreated/tissue/svg/to/save/'"
   ]
  },
  {
   "cell_type": "markdown",
   "metadata": {},
   "source": [
    "#### IMAGE UNTREATED `REALISTIC CO-CULTURE DISH` AND `TISSUE` DATA"
   ]
  },
  {
   "cell_type": "code",
   "execution_count": null,
   "metadata": {
    "collapsed": true
   },
   "outputs": [],
   "source": [
    "import scripts.image.image"
   ]
  },
  {
   "cell_type": "code",
   "execution_count": null,
   "metadata": {
    "collapsed": true
   },
   "outputs": [],
   "source": [
    "scripts.image.image.image(DATA_PATH_IMAGE_UNTREATED_COCULTURE_CELLS, DATA_PATH_IMAGE_UNTREATED_COCULTURE_SVG, size=SIZE, time=DISH_TIMES, ignore=POPS_TO_IGNORE, radius=RADIUS, pops=True)\n",
    "scripts.image.image.image(DATA_PATH_IMAGE_UNTREATED_TISSUE_CELLS, DATA_PATH_IMAGE_UNTREATED_TISSUE_SVG, size=SIZE, time=TISSUE_TIMES, ignore=POPS_TO_IGNORE, radius=RADIUS, pops=True)\n",
    "scripts.image.image.image(DATA_PATH_IMAGE_UNTREATED_TISSUE_GRAPH, DATA_PATH_IMAGE_UNTREATED_TISSUE_SVG, size=SIZE, time=TISSUE_TIMES, radius=RADIUS, graph=True)"
   ]
  },
  {
   "cell_type": "markdown",
   "metadata": {},
   "source": [
    "#### EXAMPLE FIGURE"
   ]
  },
  {
   "cell_type": "markdown",
   "metadata": {},
   "source": [
    "Example untreated `REALISTIC COCULTURE DISH` image."
   ]
  }
 ],
 "metadata": {
  "kernelspec": {
   "display_name": "Python 3",
   "language": "python",
   "name": "python3"
  },
  "language_info": {
   "codemirror_mode": {
    "name": "ipython",
    "version": 3
   },
   "file_extension": ".py",
   "mimetype": "text/x-python",
   "name": "python",
   "nbconvert_exporter": "python",
   "pygments_lexer": "ipython3",
   "version": "3.6.8"
  }
 },
 "nbformat": 4,
 "nbformat_minor": 2
}
