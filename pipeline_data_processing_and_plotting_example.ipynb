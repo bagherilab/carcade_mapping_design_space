{
 "cells": [
  {
   "cell_type": "markdown",
   "metadata": {},
   "source": [
    "# PROCESSING & PLOTTING DATA EXAMPLE"
   ]
  },
  {
   "cell_type": "markdown",
   "metadata": {},
   "source": [
    "This notebook provides the functions and scripts for parsing simulation files (`.json`) into pickled numpy arrays (`.pkl`) and subsequentially selecting, plotting, and analyzing various subsets or all of the data. This notebook shows the logical order in which data is processed to obtain the results in the paper."
   ]
  },
  {
   "cell_type": "markdown",
   "metadata": {},
   "source": [
    "---"
   ]
  },
  {
   "cell_type": "markdown",
   "metadata": {},
   "source": [
    "1. HEURISTIC DATA PLOTTING\n",
    "2. MONOCULTURE AND CO-CULTURE DISH DATA PROCESSING & PLOTTING\n",
    "    - 2.1 PARSE MONOCULTURE AND CO-CULTURE DISH DATA\n",
    "    - 2.2 ANALYZE PARSED MONOCULTURE AND CO-CULTURE DISH DATA\n",
    "    - 2.3 SUBSET ANALYZED MONOCULTURE AND CO-CULTURE DISH DATA\n",
    "    - 2.4 PLOT SUBSETTED MONOCULTURE AND CO-CULTURE DISH DATA\n",
    "    - 2.5 MULTI-FEATURE & OUTCOME ANALYSIS MONOCULTURE AND CO-CULTURE DISH DATA\n",
    "3. EXPERIMENTAL LITERATURE DATA PLOTTING\n",
    "4. TISSUE DATA PROCESSING & PLOTTING\n",
    "    - 4.1 PARSE TISSUE DATA\n",
    "    - 4.2 ANALYZE PARSED TISSUE DATA\n",
    "    - 4.3 SUBSET ANALYZED TISSUE DATA\n",
    "    - 4.4 PLOT SUBSETTED TISSUE DATA\n",
    "    - 4.5 MULTI-FEATURE & OUTCOME ANALYSIS TISSUE\n",
    "5. RANKED DATA PLOTTING\n",
    "6. CO-CULTURE DISH AND TISSUE SHARED LOCS DATA PROCESSING & PLOTTING\n",
    "    - 6.1 ANALYZE PARSED CO-CULTURE DISH AND TISSUE SHARED LOCS DATA\n",
    "    - 6.2 SUBSET ANALYZED CO-CULTURE DISH AND TISSUE SHARED LOCS DATA\n",
    "    - 6.3 PLOT CO-CULTURE DISH AND TISSUE SHARED LOCS DATA\n",
    "7. CO-CULTURE, TISSUE, AND GRAPH IMAGING"
   ]
  },
  {
   "cell_type": "markdown",
   "metadata": {},
   "source": [
    "---"
   ]
  },
  {
   "cell_type": "markdown",
   "metadata": {},
   "source": [
    "## 1. HEURISTIC DATA PLOTTING "
   ]
  },
  {
   "cell_type": "markdown",
   "metadata": {},
   "source": [
    "The main function (`plot_heuristics_data`) will make a plot the probability of binding and/or killing based on the CAR-antigen and PD1-PDL1 binding heuristics used in the paper across various values of ligand/receptor and/or binding affinity. Each time this function is run the same output will be produced."
   ]
  },
  {
   "cell_type": "markdown",
   "metadata": {},
   "source": [
    "#### WORKSPACE VARIABLES\n",
    "\n",
    "+ `RESULTS_PATH_HEURISTICS` variable indicates where to save the heuristic plots (`.svg` files as a result of plotting)"
   ]
  },
  {
   "cell_type": "code",
   "execution_count": 1,
   "metadata": {
    "collapsed": true
   },
   "outputs": [],
   "source": [
    "RESULTS_PATH_HEURISTICS = 'examples/figures/heuristics/'"
   ]
  },
  {
   "cell_type": "markdown",
   "metadata": {},
   "source": [
    "#### PLOT HEURISTIC DATA"
   ]
  },
  {
   "cell_type": "code",
   "execution_count": 2,
   "metadata": {
    "collapsed": true
   },
   "outputs": [],
   "source": [
    "import scripts.plot.plot_data"
   ]
  },
  {
   "cell_type": "code",
   "execution_count": 3,
   "metadata": {
    "collapsed": true
   },
   "outputs": [],
   "source": [
    "scripts.plot.plot_data.plot_heuristics_data(RESULTS_PATH_HEURISTICS)"
   ]
  },
  {
   "cell_type": "markdown",
   "metadata": {},
   "source": [
    "---"
   ]
  },
  {
   "cell_type": "markdown",
   "metadata": {},
   "source": [
    "## 2. SAMPLE CO-CULTURE DATA PROCESSING & PLOTTING"
   ]
  },
  {
   "cell_type": "markdown",
   "metadata": {},
   "source": [
    "A small set of `co-culture dish` data was provided for the purpose of exploring this data processing pipeline."
   ]
  },
  {
   "cell_type": "markdown",
   "metadata": {},
   "source": [
    "---"
   ]
  },
  {
   "cell_type": "markdown",
   "metadata": {},
   "source": [
    "### 2.1 PARSE CO-CULTURE DISH DATA"
   ]
  },
  {
   "cell_type": "markdown",
   "metadata": {},
   "source": [
    "The main parsing function (`parse`) iterates through each file in the data path and parses each simulation instance, extracting fields from the simulation setup, cells, and environment.\n",
    "\n",
    "The parsed arrays are organized as:\n",
    "\n",
    "`{\n",
    "    \"setup\": {\n",
    "        \"radius\": R,\n",
    "        \"height\": H,\n",
    "        \"time\": [],\n",
    "        \"pops\": [],\n",
    "        \"types\": [],\n",
    "        \"coords\": []\n",
    "    },\n",
    "    \"agents\": (N seeds) x (T timepoints) x (H height) x (C coordinates) x (P positions),\n",
    "    \"environments\": {\n",
    "        \"glucose\": (N seeds) x (T timepoints) x (H height) x (R radius)\n",
    "        \"oxygen\": (N seeds) x (T timepoints) x (H height) x (R radius)\n",
    "        \"tgfa\": (N seeds) x (T timepoints) x (H height) x (R radius)\n",
    "        \"IL-2\": (N seeds) x (T timepoints) x (H height) x (R radius)\n",
    "    }\n",
    "}\n",
    "`\n",
    "\n",
    "where each entry in the agents array is a structured entry of the shape:\n",
    "\n",
    "`\n",
    "\"pop\"       int8    population code\n",
    "\"type\"      int8    cell type code\n",
    "\"volume\"    int16   cell volume (rounded)\n",
    "\"cycle\"     int16   average cell cycle length (rounded)\n",
    "`\n",
    "The `parse.py` file contains general parsing functions.\n",
    "\n",
    "Parsing can take some time."
   ]
  },
  {
   "cell_type": "markdown",
   "metadata": {},
   "source": [
    "#### WORKSPACE VARIABLES\n",
    "\n",
    "Set up workspace variables for parsing simulations. \n",
    "\n",
    "+ `DATA_PATH` variables are the path to simulaiton output data files (`.tar.xz` files of compressed simulation outputs)\n",
    "+ `RESULT_PATH` variables are the path for result files (`.pkl` files generated by parsing)"
   ]
  },
  {
   "cell_type": "code",
   "execution_count": null,
   "metadata": {
    "collapsed": true
   },
   "outputs": [],
   "source": [
    "# Toy data workspace variables\n",
    "DATA_PATH_TOY_COCULTURE_TAR = 'examples/files/toy/coculture/tars/'\n",
    "RESULTS_PATH_TOY_COCULTURE_PARSED = 'examples/files/toy/coculture/parsed/'"
   ]
  },
  {
   "cell_type": "markdown",
   "metadata": {},
   "source": [
    "#### PARSE SAMPLE `CO-CULTURE DISH` SIMULATIONS"
   ]
  },
  {
   "cell_type": "code",
   "execution_count": null,
   "metadata": {
    "collapsed": true
   },
   "outputs": [],
   "source": [
    "import scripts.parse.parse"
   ]
  },
  {
   "cell_type": "code",
   "execution_count": null,
   "metadata": {
    "collapsed": true
   },
   "outputs": [],
   "source": [
    "scripts.parse.parse.parse(DATA_PATH_TOY_COCULTURE_TAR, RESULTS_PATH_TOY_COCULTURE_PARSED)"
   ]
  },
  {
   "cell_type": "markdown",
   "metadata": {},
   "source": [
    "---"
   ]
  },
  {
   "cell_type": "markdown",
   "metadata": {},
   "source": [
    "### 2.2 ANALYZE PARSED SAMPLE CO-CULTURE DISH DATA"
   ]
  },
  {
   "cell_type": "markdown",
   "metadata": {},
   "source": [
    "Each main analyzing function (`analyze_cells`, `analyze_env`, `analyze_spatial`, and `analyze_lysis`) iterate through each parsed file (`.pkl`) in the data path and analyzes each simulation instance, extracting fields from the simulation setup, cells, and environment depending on the function.\n",
    "\n",
    "`analyze_cells` collects cell counts for each population and state over time (files produced will end with `ANALYSED`).\n",
    "\n",
    "`analyze_env` collects information on environmental species concentrations over time (files produced will end with `ENVIRONMENT`).\n",
    "\n",
    "`analyze_spatial` collects cell counts for each population across simulation radii over time (files produced will end with `SPATIAL`).\n",
    "\n",
    "`analyze_lysis` collects lysed cell information over time (files produced will end with `LYSED`)."
   ]
  },
  {
   "cell_type": "markdown",
   "metadata": {},
   "source": [
    "#### WORKSPACE VARIABLES\n",
    "\n",
    "Set up workspace variables for analyzing simulations.\n",
    "\n",
    "+ `DATA_PATH...PARSED` variables are the path to parsed data files (`.pkl` files generated by parsing)\n",
    "+ `DATA_PATH...LYSIS` variables are the path to `LYSIS` data files (`.LYSIS.json` files generated direclty from the simulation outputs)\n",
    "+ `RESULT_PATH` variables are the path for result files (`.pkl` files generated by analyzing)"
   ]
  },
  {
   "cell_type": "code",
   "execution_count": null,
   "metadata": {
    "collapsed": true
   },
   "outputs": [],
   "source": [
    "# Toy data workspace variables\n",
    "DATA_PATH_TOY_COCULTURE_PARSED = 'examples/files/toy/coculture/parsed/'\n",
    "DATA_PATH_TOY_COCULTURE_LYSIS = 'examples/files/toy/coculture/lysis/'\n",
    "RESULTS_PATH_TOY_COCULTURE_CELLS = 'examples/files/toy/coculture/analyzed/cells/'\n",
    "RESULTS_PATH_TOY_COCULTURE_ENVIRONMENT = 'examples/files/toy/coculture/analyzed/environment/'\n",
    "RESULTS_PATH_TOY_COCULTURE_SPATIAL = 'examples/files/toy/coculture/analyzed/spatial/'\n",
    "RESULTS_PATH_TOY_COCULTURE_LYSED = 'examples/files/toy/coculture/analyzed/lysed/'"
   ]
  },
  {
   "cell_type": "markdown",
   "metadata": {},
   "source": [
    "#### ANALYZE `MONOCULTURE DISH` AND `CO-CULTURE DISH` SIMULATIONS"
   ]
  },
  {
   "cell_type": "code",
   "execution_count": null,
   "metadata": {
    "collapsed": true
   },
   "outputs": [],
   "source": [
    "import scripts.analyze.analyze_cells\n",
    "import scripts.analyze.analyze_env\n",
    "import scripts.analyze.analyze_spatial\n",
    "import scripts.analyze.analyze_lysis"
   ]
  },
  {
   "cell_type": "code",
   "execution_count": null,
   "metadata": {
    "collapsed": true
   },
   "outputs": [],
   "source": [
    "# Analyze co-culture dish data\n",
    "scripts.analyze.analyze_cells.analyze_cells(DATA_PATH_TOY_COCULTURE_PARSED, RESULTS_PATH_TOY_COCULTURE_CELLS)\n",
    "scripts.analyze.analyze_env.analyze_env(DATA_PATH_TOY_COCULTURE_PARSED, RESULTS_PATH_TOY_COCULTURE_ENVIRONMENT)\n",
    "scripts.analyze.analyze_spatial.analyze_spatial(DATA_PATH_TOY_COCULTURE_PARSED, RESULTS_PATH_TOY_COCULTURE_SPATIAL)\n",
    "scripts.analyze.analyze_lysis.analyze_lysis(DATA_PATH_TOY_COCULTURE_LYSIS, RESULTS_PATH_TOY_COCULTURE_LYSED)"
   ]
  },
  {
   "cell_type": "markdown",
   "metadata": {},
   "source": [
    "---"
   ]
  },
  {
   "cell_type": "markdown",
   "metadata": {},
   "source": [
    "### 2.3 SUBSET ANALYZED CO-CULTURE DISH DATA"
   ]
  },
  {
   "cell_type": "markdown",
   "metadata": {},
   "source": [
    "The main subsetting function (`subset_data`) takes in a given desired subset of data and iterates through each analyzed file in the data path (`.pkl`) and adds simulations matching the subset reqiresments to a single data file. Each subset will also automatically include the untreated control if it is in the file directory where the data is being pulled from.\n",
    "\n",
    "Since we are working with a limited toy example for this exercise, we will select a few small subsets of data, but they will not be exhaustive collections of the full data set as in the paper.\n",
    "\n",
    "For this example, we will select all simulations where indicated features meet the following requirements:\n",
    "\n",
    "+ `CAR AFFINITY` : 1e-7\n",
    "\n",
    "This means all data within this subset will have the specified values of the `CAR AFFINITY` listed above, but all features values of `DOSE`, `TREAT RATIO`, `ANTIGENS CANCER`, and if applicable `ANTIGENS HEALTHY`, will be included. All subsets will be saved in the following format:\n",
    "\n",
    "`XML_NAME` + `DOSE` + `TREAT RATIO` + `CAR AFFINITY` + `ANTIGENS CANCER` + `ANTIGENS HEALTHY`\n",
    "\n",
    "where the gap between values is separed by a `_`, values specified in the subset are replaced with the desired value, and values not specified in the subset are replaced by an `X` to indicate that all values of that feature are present.\n",
    "\n",
    "Thus, the above example will produce the following name for the toy data:\n",
    "    \n",
    "    VITRO_DISH_TREAT_CH_2D_X_X_1e-07_X_X_DATATYPE.pkl\n",
    "\n",
    "\n",
    "Where `DATATYPE` is either `ANALYZED` for cells, `ENVIRONMENT` for enviornment, `SPATIAL` for spatial, or `LYSED` for lysed analyses.\n",
    "\n",
    "We will also make a subset with the following requirements:\n",
    "\n",
    "+ `TREAT RATIO` : 25-75\n",
    "+ `ANTIGENS HEALTHY` : 100\n",
    "\n",
    "Which will prodice the follwing toy dataset subset:\n",
    "\n",
    "    VITRO_DISH_TREAT_CH_2D_X_25-75_X_X_100_DATATYPE.pkl\n",
    "    \n",
    "And finally, we will collect all of the cell data into a single file by not selecting a subset, producing data with the following name:\n",
    "\n",
    "    VITRO_DISH_TREAT_CH_2D_X_X_X_X_X_DATATYPE.pkl\n",
    "\n",
    "We will additionally do this with and without the `states` flag, such that we are collecting only the cell population and state counts data over time, but will exclude the volume and cell cycle distribution data. The file with the `states` information only will be listed as:\n",
    "\n",
    "\n",
    "    VITRO_DISH_TREAT_CH_2D_X_X_X_X_X_STATES_ANALYZED.pkl"
   ]
  },
  {
   "cell_type": "markdown",
   "metadata": {},
   "source": [
    "#### WORKSPACE VARIABLES\n",
    "\n",
    "Set up workspace variables for subsetting simulations.\n",
    "\n",
    "+ `DATA_PATH` variables are the path to analyzed data files (`.pkl` files generated by analyzing data)\n",
    "+ `RESULT_PATH` variables are the path for result files (`.pkl` files generated by subsetting)\n",
    "+ `...XML_NAME` variables are strings (that vary based on data setup) that will preceed the file name extension (that vary based on subset selected)\n",
    "+ `...SUBSET...` variables are the requested data subsets to make (`;` separated lists with tuples containing keys to specific feature values that simulations in subset must include)\n",
    "+ `...ALL` variables indicate to collect all data without subsetting\n",
    "+ `DATA_TYPE` variables indicate which type of analyzed data is being fed into the subsetting function\n",
    "+ `STATES` variable enable collecting only the relevant cell count and states data (thus excluding cell distribution data such as volumes and average cell cycle lengths)"
   ]
  },
  {
   "cell_type": "code",
   "execution_count": null,
   "metadata": {
    "collapsed": true
   },
   "outputs": [],
   "source": [
    "# Co-culture dish workspace variables\n",
    "DATA_PATH_TOY_COCULTURE_CELLS = 'examples/files/toy/coculture/analyzed/cells/'\n",
    "DATA_PATH_TOY_COCULTURE_ENVIRONMENT = 'examples/files/toy/coculture/analyzed/environment/'\n",
    "DATA_PATH_TOY_COCULTURE_SPATIAL = 'examples/files/toy/coculture/analyzed/spatial/'\n",
    "DATA_PATH_TOY_COCULTURE_LYSED = 'examples/files/toy/coculture/analyzed/lysed/'\n",
    "\n",
    "TOY_COCULTURE_XML_NAME = 'VITRO_DISH_TREAT_CH_2D'\n",
    "\n",
    "RESULTS_PATH_TOY_COCULTURE_SUBSET_CELLS = 'examples/files/toy/coculture/subset/cells/'\n",
    "RESULTS_PATH_TOY_COCULTURE_SUBSET_ENVIRONMENT = 'examples/files/toy/coculture/subset/environment/'\n",
    "RESULTS_PATH_TOY_COCULTURE_SUBSET_SPATIAL = 'examples/files/toy/coculture/subset/spatial/'\n",
    "RESULTS_PATH_TOY_COCULTURE_SUBSET_LYSED = 'examples/files/toy/coculture/subset/lysed/'\n",
    "\n",
    "TOY_COCULTURE_SUBSETS = '[(CAR AFFINITY:1e-7)];[(TREAT RATIO:25-75),(ANTIGENS HEALTHY:100)]'\n",
    "TOY_COCULTURE_ALL = ''\n",
    "\n",
    "# Types of analyses\n",
    "DATA_TYPE_CELLS = 'ANALYZED'\n",
    "DATA_TYPE_ENVIRONMENT = 'ENVIRONMENT'\n",
    "DATA_TYPE_SPATIAL = 'SPATIAL'\n",
    "DATA_TYPE_LYSED = 'LYSED'\n",
    "\n",
    "STATES = True"
   ]
  },
  {
   "cell_type": "markdown",
   "metadata": {},
   "source": [
    "#### SUBEST `MONOCULTURE DISH` AND `CO-CULTURE DISH` SIMULATIONS"
   ]
  },
  {
   "cell_type": "code",
   "execution_count": null,
   "metadata": {
    "collapsed": true
   },
   "outputs": [],
   "source": [
    "import scripts.subset.subset"
   ]
  },
  {
   "cell_type": "code",
   "execution_count": null,
   "metadata": {
    "collapsed": true
   },
   "outputs": [],
   "source": [
    "# Subset monoculture dish data\n",
    "scripts.subset.subset.subset_data(DATA_PATH_TOY_COCULTURE_CELLS, TOY_COCULTURE_XML_NAME, DATA_TYPE_CELLS, RESULTS_PATH_TOY_COCULTURE_SUBSET_CELLS, TOY_COCULTURE_SUBSETS)\n",
    "scripts.subset.subset.subset_data(DATA_PATH_TOY_COCULTURE_CELLS, TOY_COCULTURE_XML_NAME, DATA_TYPE_CELLS, RESULTS_PATH_TOY_COCULTURE_SUBSET_CELLS, TOY_COCULTURE_ALL, states=STATES)\n",
    "scripts.subset.subset.subset_data(DATA_PATH_TOY_COCULTURE_ENVIRONMENT, TOY_COCULTURE_XML_NAME, DATA_TYPE_ENVIRONMENT, RESULTS_PATH_TOY_COCULTURE_SUBSET_ENVIRONMENT, TOY_COCULTURE_SUBSETS)\n",
    "scripts.subset.subset.subset_data(DATA_PATH_TOY_COCULTURE_SPATIAL, TOY_COCULTURE_XML_NAME, DATA_TYPE_SPATIAL, RESULTS_PATH_TOY_COCULTURE_SUBSET_SPATIAL, TOY_COCULTURE_SUBSETS)\n",
    "scripts.subset.subset.subset_data(DATA_PATH_TOY_COCULTURE_LYSED, TOY_COCULTURE_XML_NAME, DATA_TYPE_LYSED, RESULTS_PATH_TOY_COCULTURE_SUBSET_LYSED, TOY_COCULTURE_SUBSETS)"
   ]
  },
  {
   "cell_type": "markdown",
   "metadata": {},
   "source": [
    "---"
   ]
  },
  {
   "cell_type": "markdown",
   "metadata": {},
   "source": [
    "### 2.4 PLOT SUBSETTED CO-CULTURE DISH DATA"
   ]
  },
  {
   "cell_type": "markdown",
   "metadata": {},
   "source": [
    "The main plotting function (`plot_data`) iterates through each subsetted file (`.pkl`) in the data path and plots relevant data for each subset instance.\n",
    "\n",
    "The function enables choosing which feature to color the data by. Choosing the color to be `X` will enable the function to automatically color the data based on whichever features are not held constant in the subset. For the purpose of this example, instead of using the toy data, we have provided a few full subsets of all the entire `co-culture dish` dataset for exploring."
   ]
  },
  {
   "cell_type": "markdown",
   "metadata": {},
   "source": [
    "#### WORKSPACE VARIABLES\n",
    "\n",
    "\n",
    "Set up workspace variables for plotting simulations.\n",
    "\n",
    "+ `DATA_PATH` variables are the path to subsetted data files (`.pkl` files generated by subsetting data)\n",
    "+ `RESULT_PATH` variables are the path for result files (`.svg` files generated by plotting)\n",
    "+ `...COLOR` variables indicate which feature to color the variables by (choosing the color to be `X` will enable the function to automatically color the data based on whichever features are not held constant in the subset)"
   ]
  },
  {
   "cell_type": "code",
   "execution_count": null,
   "metadata": {
    "collapsed": true
   },
   "outputs": [],
   "source": [
    "# Co-culture dish workspace variables\n",
    "DATA_PATH_DISH_COCULTURE_SUBSET_CELLS = 'examples/files/full/coculture/subset/cells/'\n",
    "DATA_PATH_DISH_COCULTURE_SUBSET_ENVIRONMENT = 'examples/files/full/coculture/subset/environment/'\n",
    "DATA_PATH_DISH_COCULTURE_SUBSET_SPATIAL = 'examples/files/full/coculture/subset/spatial/'\n",
    "DATA_PATH_DISH_COCULTURE_SUBSET_LYSED = 'examples/files/full/coculture/subset/lysed/'\n",
    "\n",
    "DISH_COCULTURE_COLOR = 'X'\n",
    "\n",
    "RESULTS_PATH_DISH_COCULTURE_FIGURES_CELLS = 'examples/figures/coculture/cells/'\n",
    "RESULTS_PATH_DISH_COCULTURE_FIGURES_ENVIRONMENT = 'examples/figures/coculture/environment/'\n",
    "RESULTS_PATH_DISH_COCULTURE_FIGURES_SPATIAL = 'examples/figures/coculture/spatial/'\n",
    "RESULTS_PATH_DISH_COCULTURE_FIGURES_LYSED = 'examples/figures/coculture/lysed/'"
   ]
  },
  {
   "cell_type": "markdown",
   "metadata": {},
   "source": [
    "#### PLOT  `CO-CULTURE DISH` SIMULATIONS"
   ]
  },
  {
   "cell_type": "code",
   "execution_count": null,
   "metadata": {
    "collapsed": true
   },
   "outputs": [],
   "source": [
    "import scripts.plot.plot_data"
   ]
  },
  {
   "cell_type": "code",
   "execution_count": null,
   "metadata": {
    "collapsed": true
   },
   "outputs": [],
   "source": [
    "# Plot coculture dish data\n",
    "scripts.plot.plot_data.plot_data(DATA_PATH_DISH_COCULTURE_SUBSET_CELLS, DISH_COCULTURE_COLOR, RESULTS_PATH_DISH_COCULTURE_FIGURES_CELLS)\n",
    "scripts.plot.plot_data.plot_data(DATA_PATH_DISH_COCULTURE_SUBSET_ENVIRONMENT, DISH_COCULTURE_COLOR, RESULTS_PATH_DISH_COCULTURE_FIGURES_ENVIRONMENT)\n",
    "scripts.plot.plot_data.plot_data(DATA_PATH_DISH_COCULTURE_SUBSET_SPATIAL, DISH_COCULTURE_COLOR, RESULTS_PATH_DISH_COCULTURE_FIGURES_SPATIAL)\n",
    "scripts.plot.plot_data.plot_data(DATA_PATH_DISH_COCULTURE_SUBSET_LYSED, DISH_COCULTURE_COLOR, RESULTS_PATH_DISH_COCULTURE_FIGURES_LYSED)"
   ]
  },
  {
   "cell_type": "markdown",
   "metadata": {},
   "source": [
    "---"
   ]
  },
  {
   "cell_type": "markdown",
   "metadata": {},
   "source": [
    "### 2.5 MULTI-FEATURE & OUTCOME ANALYSIS CO-CULTURE DISH DATA"
   ]
  },
  {
   "cell_type": "markdown",
   "metadata": {},
   "source": [
    "The main outcome analysis function (`stats`) iterates through each subsetted file (`.pkl`) in the data path and plots and analyzes relevant data for each subset instance.\n",
    "\n",
    "For these analyses, only full data (analyzed by cell counts) subsets were used. We provided the following real, full `co-culture dish` subset for this analysis.:\n",
    "\n",
    "    VITRO_DISH_TREAT_CH_2D_X_X_X_X_X_STATES_ANALYZED.pkl\n",
    "\n",
    "We will analyze this data both in full and averaged across replicates."
   ]
  },
  {
   "cell_type": "markdown",
   "metadata": {},
   "source": [
    "#### WORKSPACE VARIABLES\n",
    "\n",
    "Set up workspace variables for plotting simulations.\n",
    "\n",
    "+ `DATA_PATH` variables are the path to subsetted data files (`.pkl` files generated by subsetting data)\n",
    "+ `RESULT_PATH` variables are the path for result files (`.svg` or `.pdf` or `.xlsx` files generated by analyzing the data)\n",
    "+ `AVERAGE` and `NOT_AVERAGE` indicate whether or not to average the data across replicates."
   ]
  },
  {
   "cell_type": "code",
   "execution_count": null,
   "metadata": {
    "collapsed": true
   },
   "outputs": [],
   "source": [
    "# Co-culture dish workspace variables\n",
    "DATA_PATH_DISH_COCULTURE_FULL = 'examples/files/full/coculture/subset/cells/VITRO_DISH_TREAT_CH_2D_X_X_X_X_X_STATES_ANALYZED.pkl'\n",
    "\n",
    "RESULTS_PATH_DISH_COCULTURE_STATS = 'examples/figures/coculture/test/stats/'\n",
    "RESULTS_PATH_DISH_COCULTURE_STATS_AVERAGE = 'examples/figures/coculture/test/stats/average/'\n",
    "\n",
    "# Average workspace variables\n",
    "AVERAGE = True\n",
    "NOT_AVERAGE = False"
   ]
  },
  {
   "cell_type": "markdown",
   "metadata": {},
   "source": [
    "#### ANALYZE `CO-CULTURE DISH` SIMULATIONS"
   ]
  },
  {
   "cell_type": "code",
   "execution_count": null,
   "metadata": {
    "collapsed": true
   },
   "outputs": [],
   "source": [
    "import scripts.stats.stats"
   ]
  },
  {
   "cell_type": "code",
   "execution_count": null,
   "metadata": {
    "collapsed": true
   },
   "outputs": [],
   "source": [
    "scripts.stats.stats.stats(DATA_PATH_DISH_COCULTURE_FULL, RESULTS_PATH_DISH_COCULTURE_STATS, average=NOT_AVERAGE)\n",
    "scripts.stats.stats.stats(DATA_PATH_DISH_COCULTURE_FULL, RESULTS_PATH_DISH_COCULTURE_STATS_AVERAGE, average=AVERAGE)"
   ]
  },
  {
   "cell_type": "markdown",
   "metadata": {},
   "source": [
    "---"
   ]
  },
  {
   "cell_type": "markdown",
   "metadata": {},
   "source": [
    "## 3. EXPERIMENTAL LITERATURE DATA PLOTTING"
   ]
  },
  {
   "cell_type": "markdown",
   "metadata": {},
   "source": [
    "The main function (`plot_kill_curve_exp_data`) will plot experimental data kill curves using data extracted from a variety of reference papers. Each time this function is run the same output will be produced."
   ]
  },
  {
   "cell_type": "markdown",
   "metadata": {},
   "source": [
    "#### WORKSPACE VARIABLES\n",
    "\n",
    "+ `RESULTS_PATH_EXPERIMENTAL_LITERATURE_KILL_CURVES` variable indicates where to save plots based on extracted data from literature (`.svg` files as a result of plotting)"
   ]
  },
  {
   "cell_type": "code",
   "execution_count": null,
   "metadata": {
    "collapsed": true
   },
   "outputs": [],
   "source": [
    "RESULTS_PATH_EXPERIMENTAL_LITERATURE_KILL_CURVES = 'examples/figures/kill_curves/'"
   ]
  },
  {
   "cell_type": "markdown",
   "metadata": {},
   "source": [
    "#### PLOT EXPERIMENTAL LITERATURE DATA"
   ]
  },
  {
   "cell_type": "code",
   "execution_count": null,
   "metadata": {
    "collapsed": true
   },
   "outputs": [],
   "source": [
    "import scripts.plot.plot_data"
   ]
  },
  {
   "cell_type": "code",
   "execution_count": null,
   "metadata": {
    "collapsed": true
   },
   "outputs": [],
   "source": [
    "scripts.plot.plot_data.plot_kill_curve_exp_data(RESULTS_PATH_EXPERIMENTAL_LITERATURE_KILL_CURVES)"
   ]
  },
  {
   "cell_type": "markdown",
   "metadata": {},
   "source": [
    "---"
   ]
  },
  {
   "cell_type": "markdown",
   "metadata": {},
   "source": [
    "## 4. SAMPLE TISSUE DATA PROCESSING & PLOTTING"
   ]
  },
  {
   "cell_type": "markdown",
   "metadata": {},
   "source": [
    "Only a subset of `tissue` simulations were generated. This set are those that showed effective treatment in the `realistic co-culture dish` context."
   ]
  },
  {
   "cell_type": "markdown",
   "metadata": {},
   "source": [
    "---"
   ]
  },
  {
   "cell_type": "markdown",
   "metadata": {},
   "source": [
    "### 4.1 PARSE TISSUE DATA"
   ]
  },
  {
   "cell_type": "markdown",
   "metadata": {},
   "source": [
    "The main parsing function (`parse`) iterates through each file in the data path and parses each simulation instance, extracting fields from the simulation setup, cells, and environment.\n",
    "\n",
    "The parsed arrays are organized as:\n",
    "\n",
    "`{\n",
    "    \"setup\": {\n",
    "        \"radius\": R,\n",
    "        \"height\": H,\n",
    "        \"time\": [],\n",
    "        \"pops\": [],\n",
    "        \"types\": [],\n",
    "        \"coords\": []\n",
    "    },\n",
    "    \"agents\": (N seeds) x (T timepoints) x (H height) x (C coordinates) x (P positions),\n",
    "    \"environments\": {\n",
    "        \"glucose\": (N seeds) x (T timepoints) x (H height) x (R radius)\n",
    "        \"oxygen\": (N seeds) x (T timepoints) x (H height) x (R radius)\n",
    "        \"tgfa\": (N seeds) x (T timepoints) x (H height) x (R radius)\n",
    "        \"IL-2\": (N seeds) x (T timepoints) x (H height) x (R radius)\n",
    "    }\n",
    "}\n",
    "`\n",
    "\n",
    "where each entry in the agents array is a structured entry of the shape:\n",
    "\n",
    "`\n",
    "\"pop\"       int8    population code\n",
    "\"type\"      int8    cell type code\n",
    "\"volume\"    int16   cell volume (rounded)\n",
    "\"cycle\"     int16   average cell cycle length (rounded)\n",
    "`\n",
    "The `parse.py` file contains general parsing functions.\n",
    "\n",
    "Parsing can take some time."
   ]
  },
  {
   "cell_type": "markdown",
   "metadata": {},
   "source": [
    "#### WORKSPACE VARIABLES\n",
    "\n",
    "Set up workspace variables for parsing simulations.\n",
    "\n",
    "+ `DATA_PATH` variables are the path to simulaiton output data files (`.tar.xz` files of compressed simulation outputs)"
   ]
  },
  {
   "cell_type": "code",
   "execution_count": null,
   "metadata": {
    "collapsed": true
   },
   "outputs": [],
   "source": [
    "# Toy data workspace variables\n",
    "DATA_PATH_TOY_TISSUE_TAR = 'examples/files/toy/tissue/tars/'\n",
    "RESULTS_PATH_TOY_TISSUE_PARSED = 'examples/files/toy/tissue/parsed/'"
   ]
  },
  {
   "cell_type": "markdown",
   "metadata": {},
   "source": [
    "#### PARSE `TISSUE` SIMULATIONS"
   ]
  },
  {
   "cell_type": "code",
   "execution_count": null,
   "metadata": {
    "collapsed": true
   },
   "outputs": [],
   "source": [
    "import scripts.parse.parse"
   ]
  },
  {
   "cell_type": "code",
   "execution_count": null,
   "metadata": {
    "collapsed": true
   },
   "outputs": [],
   "source": [
    "scripts.parse.parse.parse(DATA_PATH_TOY_TISSUE_TAR, RESULTS_PATH_TOY_TISSUE_PARSED)"
   ]
  },
  {
   "cell_type": "markdown",
   "metadata": {},
   "source": [
    "---"
   ]
  },
  {
   "cell_type": "markdown",
   "metadata": {},
   "source": [
    "### 4.2 ANALYZE PARSED TISSUE DATA"
   ]
  },
  {
   "cell_type": "markdown",
   "metadata": {},
   "source": [
    "Each main analyzing function (`analyze_cells`, `analyze_env`, `analyze_spatial`, and `analyze_lysis`) iterate through each parsed file (`.pkl`) in the data path and analyzes each simulation instance, extracting fields from the simulation setup, cells, and environment depending on the function.\n",
    "\n",
    "`analyze_cells` collects cell counts for each population and state over time (files produced will end with `ANALYSED`).\n",
    "\n",
    "`analyze_env` collects information on environmental species concentrations over time (files produced will end with `ENVIRONMENT`).\n",
    "\n",
    "`analyze_spatial` collects cell counts for each population across simulation radii over time (files produced will end with `SPATIAL`).\n",
    "\n",
    "`analyze_lysis` collects lysed cell information over time (files produced will end with `LYSED`)."
   ]
  },
  {
   "cell_type": "markdown",
   "metadata": {},
   "source": [
    "#### WORKSPACE VARIABLES\n",
    "\n",
    "Set up workspace variables for analyzing simulations.\n",
    "\n",
    "+ `DATA_PATH...PARSED` variables are the path to parsed data files (`.pkl` files generated by parsing)\n",
    "+ `DATA_PATH...LYSIS` variables are the path to `LYSIS` data files (`.LYSIS.json` files generated direclty from the simulation outputs)\n",
    "+ `RESULT_PATH` variables are the path for result files (`.pkl` files generated by analyzing)"
   ]
  },
  {
   "cell_type": "code",
   "execution_count": null,
   "metadata": {
    "collapsed": true
   },
   "outputs": [],
   "source": [
    "# Tissue workspace variables\n",
    "DATA_PATH_TOY_TISSUE_PARSED = 'examples/files/toy/tissue/parsed/'\n",
    "DATA_PATH_TOY_TISSUE_LYSIS = 'examples/files/toy/tissue/lysis/'\n",
    "RESULTS_PATH_TOY_TISSUE_CELLS = 'examples/files/toy/tissue/analyzed/cells/'\n",
    "RESULTS_PATH_TOY_TISSUE_ENVIRONMENT = 'examples/files/toy/tissue/analyzed/environment/'\n",
    "RESULTS_PATH_TOY_TISSUE_SPATIAL = 'examples/files/toy/tissue/analyzed/spatial/'\n",
    "RESULTS_PATH_TOY_TISSUE_LYSED = 'examples/files/toy/tissue/analyzed/lysed/'"
   ]
  },
  {
   "cell_type": "markdown",
   "metadata": {},
   "source": [
    "#### ANALYZE `TISSUE` SIMULATIONS"
   ]
  },
  {
   "cell_type": "code",
   "execution_count": null,
   "metadata": {
    "collapsed": true
   },
   "outputs": [],
   "source": [
    "import scripts.analyze.analyze_cells\n",
    "import scripts.analyze.analyze_env\n",
    "import scripts.analyze.analyze_spatial\n",
    "import scripts.analyze.analyze_lysis"
   ]
  },
  {
   "cell_type": "code",
   "execution_count": null,
   "metadata": {
    "collapsed": true
   },
   "outputs": [],
   "source": [
    "# Analyze tissue data\n",
    "scripts.analyze.analyze_cells.analyze_cells(DATA_PATH_TOY_TISSUE_PARSED, RESULTS_PATH_TOY_TISSUE_CELLS)\n",
    "scripts.analyze.analyze_env.analyze_env(DATA_PATH_TOY_TISSUE_PARSED, RESULTS_PATH_TOY_TISSUE_ENVIRONMENT)\n",
    "scripts.analyze.analyze_spatial.analyze_spatial(DATA_PATH_TOY_TISSUE_PARSED, RESULTS_PATH_TOY_TISSUE_SPATIAL)\n",
    "scripts.analyze.analyze_lysis.analyze_lysis(DATA_PATH_TOY_TISSUE_LYSIS, RESULTS_PATH_TOY_TISSUE_LYSED)"
   ]
  },
  {
   "cell_type": "markdown",
   "metadata": {},
   "source": [
    "---"
   ]
  },
  {
   "cell_type": "markdown",
   "metadata": {},
   "source": [
    "### 4.3 SUBSET ANALYZED TISSUE DATA"
   ]
  },
  {
   "cell_type": "markdown",
   "metadata": {},
   "source": [
    "The main subsetting function (`subset_data`) takes in a given desired subset of data and iterates through each analyzed file in the data path (`.pkl`) and adds simulations matching the subset reqiresments to a single data file. Since not all possible combinations of the `tissue` data was collected, only the subset of all data is required. For this example, we will put all of the data into a single subset."
   ]
  },
  {
   "cell_type": "markdown",
   "metadata": {},
   "source": [
    "#### WORKSPACE VARIABLES\n",
    "\n",
    "Set up workspace variables for subsetting simulations.\n",
    "\n",
    "+ `DATA_PATH` variables are the path to analyzed data files (`.pkl` files generated by analyzing data)\n",
    "+ `RESULT_PATH` variables are the path for result files (`.pkl` files generated by subsetting)\n",
    "+ `TISSUE_XML_NAME` variable is the strings (that vary based on data setup) that will preceed the file name extension (that vary based on subset selected)\n",
    "+ `TISSUE_ALL` variable indicate to collect all data without subsetting\n",
    "+ `DATA_TYPE` variables indicate which type of analyzed data is being fed into the subsetting function\n",
    "+ `STATES` variable enable collecting only the relevant cell count and states data (thus excluding cell distribution data such as volumes and average cell cycle lengths)"
   ]
  },
  {
   "cell_type": "code",
   "execution_count": null,
   "metadata": {
    "collapsed": true
   },
   "outputs": [],
   "source": [
    "# Tissue workspace variables\n",
    "DATA_PATH_TOY_TISSUE_CELLS = 'examples/files/toy/tissue/analyzed/cells/'\n",
    "DATA_PATH_TOY_TISSUE_ENVIRONMENT = 'examples/files/toy/tissue/analyzed/environment/'\n",
    "DATA_PATH_TOY_TISSUE_SPATIAL = 'examples/files/toy/tissue/analyzed/spatial/'\n",
    "DATA_PATH_TOY_TISSUE_LYSED = 'examples/files/toy/tissue/analyzed/lysed/'\n",
    "\n",
    "TOY_TISSUE_XML_NAME = 'VIVO_TISSUE_TREAT_CH_2D'\n",
    "\n",
    "RESULTS_PATH_TOY_TISSUE_SUBSET_CELLS = 'examples/files/toy/tissue/subset/cells/'\n",
    "RESULTS_PATH_TOY_TISSUE_SUBSET_ENVIRONMENT = 'examples/files/toy/tissue/subset/environment/'\n",
    "RESULTS_PATH_TOY_TISSUE_SUBSET_SPATIAL = 'examples/files/toy/tissue/subset/spatial/'\n",
    "RESULTS_PATH_TOY_TISSUE_SUBSET_LYSED = 'examples/files/toy/tissue/subset/lysed/'\n",
    "\n",
    "TOY_TISSUE_ALL = ''\n",
    "\n",
    "# Types of analyses\n",
    "DATA_TYPE_CELLS = 'ANALYZED'\n",
    "DATA_TYPE_ENVIRONMENT = 'ENVIRONMENT'\n",
    "DATA_TYPE_SPATIAL = 'SPATIAL'\n",
    "DATA_TYPE_LYSED = 'LYSED'\n",
    "\n",
    "STATES = True"
   ]
  },
  {
   "cell_type": "markdown",
   "metadata": {},
   "source": [
    "#### SUBSET `TISSUE` SIMULATIONS"
   ]
  },
  {
   "cell_type": "code",
   "execution_count": null,
   "metadata": {
    "collapsed": true
   },
   "outputs": [],
   "source": [
    "import scripts.subset.subset"
   ]
  },
  {
   "cell_type": "code",
   "execution_count": null,
   "metadata": {
    "collapsed": true
   },
   "outputs": [],
   "source": [
    "# Subset tissue data\n",
    "scripts.subset.subset.subset_data(DATA_PATH_TOY_TISSUE_CELLS, TOY_TISSUE_XML_NAME, DATA_TYPE_CELLS, RESULTS_PATH_TOY_TISSUE_SUBSET_CELLS, TOY_TISSUE_ALL, states=STATES)\n",
    "scripts.subset.subset.subset_data(DATA_PATH_TOY_TISSUE_ENVIRONMENT, TOY_TISSUE_XML_NAME, DATA_TYPE_ENVIRONMENT, RESULTS_PATH_TOY_TISSUE_SUBSET_ENVIRONMENT, TOY_TISSUE_ALL)\n",
    "scripts.subset.subset.subset_data(DATA_PATH_TOY_TISSUE_SPATIAL, TOY_TISSUE_XML_NAME, DATA_TYPE_SPATIAL, RESULTS_PATH_TOY_TISSUE_SUBSET_SPATIAL, TOY_TISSUE_ALL)\n",
    "scripts.subset.subset.subset_data(DATA_PATH_TOY_TISSUE_LYSED, TOY_TISSUE_XML_NAME, DATA_TYPE_LYSED, RESULTS_PATH_TOY_TISSUE_SUBSET_LYSED, TOY_TISSUE_ALL)"
   ]
  },
  {
   "cell_type": "markdown",
   "metadata": {},
   "source": [
    "---"
   ]
  },
  {
   "cell_type": "markdown",
   "metadata": {},
   "source": [
    "### 4.4 PLOT SUBSETTED TISSUE DATA"
   ]
  },
  {
   "cell_type": "markdown",
   "metadata": {},
   "source": [
    "The main plotting function (`plot_data`) iterates through each subsetted file (`.pkl`) in the data path and plots relevant data for each subset instance.\n",
    "\n",
    "The function enables choosing which feature to color the data by. Choosing the color to be `X` will enable the function to automatically color the data based on whichever features are not held constant in the subset. Since not all possible combinations of the `tissue` data was collected, each possible feature will need to be specified (and stored in different locations as the feature color is not stored in the file name).\n",
    "\n",
    "For the purpose of this example, instead of using the toy data, we have provided a few full subsets of the entire `tissue` dataset for exploring."
   ]
  },
  {
   "cell_type": "markdown",
   "metadata": {},
   "source": [
    "#### WORKSPACE VARIABLES\n",
    "\n",
    "\n",
    "Set up workspace variables for plotting simulations.\n",
    "\n",
    "+ `DATA_PATH` variables are the path to subsetted data files (`.pkl` files generated by subsetting data)\n",
    "+ `RESULT_PATH` variables are the path for result files (`.svg` files generated by plotting) and one for each feature colored by is listed per each type of data plotted\n",
    "+ `TISSUE_COLOR` variables indicate which feature to color the variables by\n",
    "+ `TISSUE_PARTIAL` indicates that only a partial set of a full combinatorial set of features is present and is a flag used for selecting which plots to make."
   ]
  },
  {
   "cell_type": "code",
   "execution_count": null,
   "metadata": {
    "collapsed": true
   },
   "outputs": [],
   "source": [
    "# Tissue workspace variables\n",
    "DATA_PATH_TISSUE_SUBSET_CELLS = 'examples/files/full/tissue/subset/cells/'\n",
    "DATA_PATH_TISSUE_SUBSET_ENVIRONMENT = 'examples/files/full/tissue/subset/environment/'\n",
    "DATA_PATH_TISSUE_SUBSET_SPATIAL = 'examples/files/full/tissue/subset/spatial/'\n",
    "DATA_PATH_TISSUE_SUBSET_LYSED = 'examples/files/full/tissue/subset/lysed/'\n",
    "\n",
    "TISSUE_COLOR_DOSE = 'DOSE'\n",
    "TISSUE_COLOR_TREAT_RATIO = 'TREAT RATIO'\n",
    "TISSUE_COLOR_CAR_AFFINITY = 'CAR AFFINITY'\n",
    "TISSUE_COLOR_ANTIGENS_CANCER = 'ANTIGENS CANCER'\n",
    "\n",
    "RESULTS_PATH_TISSUE_FIGURES_CELLS_DOSE = 'examples/figures/tissue/cells/dose/'\n",
    "RESULTS_PATH_TISSUE_FIGURES_CELLS_TREAT_RATIO = 'examples/figures/tissue/cells/treat_ratio/'\n",
    "RESULTS_PATH_TISSUE_FIGURES_CELLS_CAR_AFFINITY = 'examples/figures/tissue/cells/car_affinity/'\n",
    "RESULTS_PATH_TISSUE_FIGURES_CELLS_ANTIGENS_CANCER = 'examples/figures/tissue/cells/antigens_cancer/'\n",
    "\n",
    "RESULTS_PATH_TISSUE_FIGURES_ENVIRONMENT_DOSE = 'examples/figures/tissue/environment/dose/'\n",
    "RESULTS_PATH_TISSUE_FIGURES_ENVIRONMENT_TREAT_RATIO = 'examples/figures/tissue/environment/treat_ratio/'\n",
    "RESULTS_PATH_TISSUE_FIGURES_ENVIRONMENT_CAR_AFFINITY = 'examples/figures/tissue/environment/car_affinity/'\n",
    "RESULTS_PATH_TISSUE_FIGURES_ENVIRONMENT_ANTIGENS_CANCER = 'examples/figures/tissue/environment/antigens_cancer/'\n",
    "\n",
    "RESULTS_PATH_TISSUE_FIGURES_SPATIAL_DOSE = 'examples/figures/tissue/spatial/dose/'\n",
    "RESULTS_PATH_TISSUE_FIGURES_SPATIAL_TREAT_RATIO = 'examples/figures/tissue/spatial/treat_ratio/'\n",
    "RESULTS_PATH_TISSUE_FIGURES_SPATIAL_CAR_AFFINITY = 'examples/figures/tissue/spatial/car_affinity/'\n",
    "RESULTS_PATH_TISSUE_FIGURES_SPATIAL_ANTIGENS_CANCER = 'examples/figures/tissue/spatial/antigens_cancer/'\n",
    "\n",
    "RESULTS_PATH_TISSUE_FIGURES_LYSED_DOSE = 'examples/figures/tissue/lysed/dose/'\n",
    "RESULTS_PATH_TISSUE_FIGURES_LYSED_TREAT_RATIO = 'examples/figures/tissue/lysed/treat_ratio/'\n",
    "RESULTS_PATH_TISSUE_FIGURES_LYSED_CAR_AFFINITY = 'examples/figures/tissue/lysed/car_affinity/'\n",
    "RESULTS_PATH_TISSUE_FIGURES_LYSED_ANTIGENS_CANCER = 'examples/figures/tissue/lysed/antigens_cancer/'\n",
    "\n",
    "TISSUE_PARTIAL = True"
   ]
  },
  {
   "cell_type": "markdown",
   "metadata": {},
   "source": [
    "#### PLOT `TISSUE` SIMULATIONS"
   ]
  },
  {
   "cell_type": "code",
   "execution_count": null,
   "metadata": {
    "collapsed": true
   },
   "outputs": [],
   "source": [
    "import scripts.plot.plot_data"
   ]
  },
  {
   "cell_type": "code",
   "execution_count": null,
   "metadata": {
    "collapsed": true
   },
   "outputs": [],
   "source": [
    "# Plot tissue data\n",
    "scripts.plot.plot_data.plot_data(DATA_PATH_TISSUE_SUBSET_CELLS, TISSUE_COLOR_DOSE, RESULTS_PATH_TISSUE_FIGURES_CELLS_DOSE, partial=TISSUE_PARTIAL)\n",
    "scripts.plot.plot_data.plot_data(DATA_PATH_TISSUE_SUBSET_CELLS, TISSUE_COLOR_TREAT_RATIO, RESULTS_PATH_TISSUE_FIGURES_CELLS_TREAT_RATIO, partial=TISSUE_PARTIAL)\n",
    "scripts.plot.plot_data.plot_data(DATA_PATH_TISSUE_SUBSET_CELLS, TISSUE_COLOR_CAR_AFFINITY, RESULTS_PATH_TISSUE_FIGURES_CELLS_CAR_AFFINITY, partial=TISSUE_PARTIAL)\n",
    "scripts.plot.plot_data.plot_data(DATA_PATH_TISSUE_SUBSET_CELLS, TISSUE_COLOR_ANTIGENS_CANCER, RESULTS_PATH_TISSUE_FIGURES_CELLS_ANTIGENS_CANCER, partial=TISSUE_PARTIAL)\n",
    "\n",
    "scripts.plot.plot_data.plot_data(DATA_PATH_TISSUE_SUBSET_ENVIRONMENT, TISSUE_COLOR_DOSE, RESULTS_PATH_TISSUE_FIGURES_ENVIRONMENT_DOSE, partial=TISSUE_PARTIAL)\n",
    "scripts.plot.plot_data.plot_data(DATA_PATH_TISSUE_SUBSET_ENVIRONMENT, TISSUE_COLOR_TREAT_RATIO, RESULTS_PATH_TISSUE_FIGURES_ENVIRONMENT_TREAT_RATIO, partial=TISSUE_PARTIAL)\n",
    "scripts.plot.plot_data.plot_data(DATA_PATH_TISSUE_SUBSET_ENVIRONMENT, TISSUE_COLOR_CAR_AFFINITY, RESULTS_PATH_TISSUE_FIGURES_ENVIRONMENT_CAR_AFFINITY, partial=TISSUE_PARTIAL)\n",
    "scripts.plot.plot_data.plot_data(DATA_PATH_TISSUE_SUBSET_ENVIRONMENT, TISSUE_COLOR_ANTIGENS_CANCER, RESULTS_PATH_TISSUE_FIGURES_ENVIRONMENT_ANTIGENS_CANCER, partial=TISSUE_PARTIAL)\n",
    "\n",
    "scripts.plot.plot_data.plot_data(DATA_PATH_TISSUE_SUBSET_SPATIAL, TISSUE_COLOR_DOSE, RESULTS_PATH_TISSUE_FIGURES_SPATIAL_DOSE, partial=TISSUE_PARTIAL)\n",
    "scripts.plot.plot_data.plot_data(DATA_PATH_TISSUE_SUBSET_SPATIAL, TISSUE_COLOR_TREAT_RATIO, RESULTS_PATH_TISSUE_FIGURES_SPATIAL_TREAT_RATIO, partial=TISSUE_PARTIAL)\n",
    "scripts.plot.plot_data.plot_data(DATA_PATH_TISSUE_SUBSET_SPATIAL, TISSUE_COLOR_CAR_AFFINITY, RESULTS_PATH_TISSUE_FIGURES_SPATIAL_CAR_AFFINITY, partial=TISSUE_PARTIAL)\n",
    "scripts.plot.plot_data.plot_data(DATA_PATH_TISSUE_SUBSET_SPATIAL, TISSUE_COLOR_ANTIGENS_CANCER, RESULTS_PATH_TISSUE_FIGURES_SPATIAL_ANTIGENS_CANCER, partial=TISSUE_PARTIAL)\n",
    "\n",
    "scripts.plot.plot_data.plot_data(DATA_PATH_TISSUE_SUBSET_LYSED, TISSUE_COLOR_DOSE, RESULTS_PATH_TISSUE_FIGURES_LYSED_DOSE, partial=TISSUE_PARTIAL)\n",
    "scripts.plot.plot_data.plot_data(DATA_PATH_TISSUE_SUBSET_LYSED, TISSUE_COLOR_TREAT_RATIO, RESULTS_PATH_TISSUE_FIGURES_LYSED_TREAT_RATIO, partial=TISSUE_PARTIAL)\n",
    "scripts.plot.plot_data.plot_data(DATA_PATH_TISSUE_SUBSET_LYSED, TISSUE_COLOR_CAR_AFFINITY, RESULTS_PATH_TISSUE_FIGURES_LYSED_CAR_AFFINITY, partial=TISSUE_PARTIAL)\n",
    "scripts.plot.plot_data.plot_data(DATA_PATH_TISSUE_SUBSET_LYSED, TISSUE_COLOR_ANTIGENS_CANCER, RESULTS_PATH_TISSUE_FIGURES_LYSED_ANTIGENS_CANCER, partial=TISSUE_PARTIAL)"
   ]
  },
  {
   "cell_type": "markdown",
   "metadata": {},
   "source": [
    "---"
   ]
  },
  {
   "cell_type": "markdown",
   "metadata": {},
   "source": [
    "### 4.5 MULTI-FEATURE & OUTCOME ANALYSIS TISSUE DATA"
   ]
  },
  {
   "cell_type": "markdown",
   "metadata": {},
   "source": [
    "The main outcome analysis function (`stats`) iterates through each subsetted file (`.pkl`) in the data path and plots and analyzes relevant data for each subset instance.\n",
    "\n",
    "For these analyses, only full data (analyzed by cell counts) subsets were used. Meaning the only relevant file is as follows:\n",
    "\n",
    "    VIVO_TISSUE_TREAT_C_2D_X_X_X_X_X_STATES_ANALYZED.pkl\n",
    "\n",
    "For the purpose of this example, instead of using the toy data, we have provided a this subset the entire `tissue` dataset for exploring."
   ]
  },
  {
   "cell_type": "markdown",
   "metadata": {},
   "source": [
    "#### WORKSPACE VARIABLES\n",
    "\n",
    "Set up workspace variables for plotting simulations.\n",
    "\n",
    "+ `DATA_PATH` variables are the path to subsetted data files (`.pkl` files generated by subsetting data)\n",
    "+ `RESULT_PATH` variables are the path for result files (`.svg` or `.pdf` or `.xlsx` files generated by analyzing the data)\n",
    "+ `TISSUE_PARTIAL` indicates that only a partial set of a full combinatorial set of features is present and is a flag used for selecting which plots to make.\n",
    "+ `AVERAGE` and `NOT_AVERAGE` indicate whether or not to average the data across replicates."
   ]
  },
  {
   "cell_type": "code",
   "execution_count": null,
   "metadata": {
    "collapsed": true
   },
   "outputs": [],
   "source": [
    "# Tissue workspace variables\n",
    "DATA_PATH_TISSUE_SUBSET_CELLS = 'examples/files/full/tissue/subset/cells/'\n",
    "\n",
    "RESULTS_PATH_TISSUE_STATS = 'examples/figures/tissue/stats/'\n",
    "RESULTS_PATH_TISSUE_STATS_AVERAGE = 'examples/figures/tissue/stats/average/'\n",
    "\n",
    "TISSUE_PARTIAL = True\n",
    "\n",
    "# Average workspace variables\n",
    "AVERAGE = True\n",
    "NOT_AVERAGE = False"
   ]
  },
  {
   "cell_type": "markdown",
   "metadata": {},
   "source": [
    "####  ANALYZE `TISSUE` SIMULATIONS"
   ]
  },
  {
   "cell_type": "code",
   "execution_count": null,
   "metadata": {
    "collapsed": true
   },
   "outputs": [],
   "source": [
    "import scripts.stats.stats"
   ]
  },
  {
   "cell_type": "code",
   "execution_count": null,
   "metadata": {
    "collapsed": true
   },
   "outputs": [],
   "source": [
    "scripts.stats.stats.stats(DATA_PATH_TISSUE_SUBSET_CELLS, RESULTS_PATH_TISSUE_STATS, partial=TISSUE_PARTIAL, average=NOT_AVERAGE)\n",
    "scripts.stats.stats.stats(DATA_PATH_TISSUE_SUBSET_CELLS, RESULTS_PATH_TISSUE_STATS_AVERAGE, partial=TISSUE_PARTIAL, average=AVERAGE)"
   ]
  },
  {
   "cell_type": "markdown",
   "metadata": {},
   "source": [
    "---"
   ]
  },
  {
   "cell_type": "markdown",
   "metadata": {},
   "source": [
    "## 5. RANKED DATA PLOTTING"
   ]
  },
  {
   "cell_type": "markdown",
   "metadata": {},
   "source": [
    "After finding the effective treatments from the `realistic co-culture dish` context and analyzing them in `tissue`, a score and rank for each simulation (averaged across replicates) were provided in both contexts and combined into a single `.xlsx` file for analysis.\n",
    "\n",
    "The main function `plot_dish_tissue_compare_data` takes this `.xlsx` file as an input and generates parity and ladder plots for the rank and score of these simulations in the `dish` compared to the the `tissue` context."
   ]
  },
  {
   "cell_type": "markdown",
   "metadata": {},
   "source": [
    "#### WORKSPACE VARIALBLES\n",
    "\n",
    "+ `DATA_PATH` variables are the path to excel data file (`.xlsx` file generated for this analysis)\n",
    "+ `RESULT_PATH` variables are the path for result files (`.svg` files generated by plotting the data)\n",
    "+ `COMPARE_COLOR` variables indicate which feature to color the variables by (choosing the color to be `X` will enable the function to automatically color the data based on each feature)"
   ]
  },
  {
   "cell_type": "code",
   "execution_count": null,
   "metadata": {
    "collapsed": true
   },
   "outputs": [],
   "source": [
    "DATA_PATH_COMPARE_DISH_TISSUE_EXCEL = 'examples/files/full/ranked/RANK_SCORE_COMPARE_DISH_TISSUE.xlsx'\n",
    "RESULTS_PATH_COMPARE_DISH_TISSUE_FIGURES = 'examples/figures/ranked/'\n",
    "\n",
    "COMPARE_COLOR = 'X'"
   ]
  },
  {
   "cell_type": "markdown",
   "metadata": {},
   "source": [
    "#### COMPARE `REALISTIC CO-CULTURE DISH` AND `TISSUE` DATA"
   ]
  },
  {
   "cell_type": "code",
   "execution_count": null,
   "metadata": {
    "collapsed": true
   },
   "outputs": [],
   "source": [
    "import scripts.plot.plot_data"
   ]
  },
  {
   "cell_type": "code",
   "execution_count": null,
   "metadata": {
    "collapsed": true
   },
   "outputs": [],
   "source": [
    "scripts.plot.plot_data.plot_dish_tissue_compare_data(DATA_PATH_COMPARE_DISH_TISSUE_EXCEL, COMPARE_COLOR, RESULTS_PATH_COMPARE_DISH_TISSUE_FIGURES)"
   ]
  },
  {
   "cell_type": "markdown",
   "metadata": {},
   "source": [
    "---"
   ]
  },
  {
   "cell_type": "markdown",
   "metadata": {},
   "source": [
    "## 6. CO-CULTURE DISH AND TISSUE SHARED LOCS DATA PROCESSING & PLOTTING"
   ]
  },
  {
   "cell_type": "markdown",
   "metadata": {},
   "source": [
    "To further analyze the spatial differences between the dish and tissue contexts, an additional analysis on the effective treatments is compared to show the cell state dynamics over time for only those CAR T-cells that share locations with at least one cancer cell. This analysis pipeline paraells that for the full analyses above but a different type of data is collected at the analysis stage."
   ]
  },
  {
   "cell_type": "markdown",
   "metadata": {},
   "source": [
    "---"
   ]
  },
  {
   "cell_type": "markdown",
   "metadata": {},
   "source": [
    "### 6.1 ANALYZE PARSED CO-CULTURE DISH AND TISSUE SHARED LOCS DATA"
   ]
  },
  {
   "cell_type": "markdown",
   "metadata": {},
   "source": [
    "The main analyzing function used in this analysis (`analyze_cells`) iterates through each parsed file (`.pkl`) in the data path and analyzes each simulation instance, extracting fields from the simulation setup, cells, and environment depending on the function.\n",
    "\n",
    "`analyze_cells` collects cell counts for each population and state over time (files produced will end with `ANALYSED`).\n",
    "\n",
    "When the `sharedLocs` flag is set to `True`, only the data for CAR T-cells that share a location with at least one cancer cell is collected. When this flag is used, files produced will end with `SHAREDLOCS`.\n",
    "\n",
    "A small set of `co-culture dish` and `tissue` data (toy data used previously) are provided for the purpose of exploring this data processing pipeline."
   ]
  },
  {
   "cell_type": "markdown",
   "metadata": {},
   "source": [
    "#### WORKSPACE VARIABLES\n",
    "\n",
    "Set up workspace variables for analyzing simulations.\n",
    "\n",
    "+ `DATA_PATH...PARSED` variables are the path to parsed data files (`.pkl` files generated by parsing), where for the `co-culture dish` data, one may need to manually put the effective treatment files into a folder separate from the rest of the data.\n",
    "+ `RESULT_PATH` variables are the path for result files (`.pkl` files generated by analyzing)\n",
    "+ `SHARED_LOCATIONS` indicates to only collect data for CAR T-cells that share a location with at least one cancer cell."
   ]
  },
  {
   "cell_type": "code",
   "execution_count": null,
   "metadata": {
    "collapsed": true
   },
   "outputs": [],
   "source": [
    "# Co-culture dish effective treatment workspace variables\n",
    "DATA_PATH_TOY_COCULTURE_PARSED = 'examples/files/toy/coculture/parsed/'\n",
    "RESULTS_PATH_TOY_COCULTURE_SHAREDLOCS = 'examples/files/toy/coculture/analyzed/sharedlocs/'\n",
    "\n",
    "# Tissue effective treatment workspace variables\n",
    "DATA_PATH_TOY_TISSUE_PARSED = 'examples/files/toy/tissue/parsed/'\n",
    "RESULTS_PATH_TOY_TISSUE_SHAREDLOCS = 'examples/files/toy/tissue/analyzed/sharedlocs/'\n",
    "\n",
    "# Shared locations workspace variables\n",
    "SHARED_LOCATIONS = True"
   ]
  },
  {
   "cell_type": "markdown",
   "metadata": {},
   "source": [
    "#### ANALYZE EFFECTIVE TREATMENT `REALISTIC CO-CULTURE DISH` AND `TISSUE` SIMULATIONS"
   ]
  },
  {
   "cell_type": "code",
   "execution_count": null,
   "metadata": {
    "collapsed": true
   },
   "outputs": [],
   "source": [
    "import scripts.analyze.analyze_cells"
   ]
  },
  {
   "cell_type": "code",
   "execution_count": null,
   "metadata": {
    "collapsed": true
   },
   "outputs": [],
   "source": [
    "scripts.analyze.analyze_cells.analyze_cells(DATA_PATH_TOY_COCULTURE_PARSED, RESULTS_PATH_TOY_COCULTURE_SHAREDLOCS, sharedLocs=SHARED_LOCATIONS)\n",
    "scripts.analyze.analyze_cells.analyze_cells(DATA_PATH_TOY_TISSUE_PARSED, RESULTS_PATH_TOY_TISSUE_SHAREDLOCS, sharedLocs=SHARED_LOCATIONS)"
   ]
  },
  {
   "cell_type": "markdown",
   "metadata": {},
   "source": [
    "---"
   ]
  },
  {
   "cell_type": "markdown",
   "metadata": {},
   "source": [
    "### 6.2 SUBSET ANALYZED CO-CULTURE DISH AND TISSUE SHARED LOCS DATA"
   ]
  },
  {
   "cell_type": "markdown",
   "metadata": {},
   "source": [
    "The main subsetting function (`subset_data`) takes in a given desired subset of data and iterates through each analyzed file in the data path (`.pkl`) and adds simulations matching the subset reqiresments to a single data file. Since not all possible combinations of the `tissue` data was collected and only the effective treatment `realistic co-culture dish` are desired, only the subset of all data is required. For this example we will continue using the toy example from above."
   ]
  },
  {
   "cell_type": "markdown",
   "metadata": {},
   "source": [
    "#### WORKSPACE VARIABLES\n",
    "\n",
    "Set up workspace variables for subsetting simulations.\n",
    "\n",
    "+ `DATA_PATH` variables are the path to analyzed data files (`.pkl` files generated by analyzing data)\n",
    "+ `RESULT_PATH` variables are the path for result files (`.pkl` files generated by subsetting)\n",
    "+ `..._XML_NAME` variables are the strings (that vary based on data setup) that will preceed the file name extension (that vary based on subset selected)\n",
    "+ `SHAREDLOCS_ALL` variable indicate to collect all data without subsetting\n",
    "+ `DATA_TYPE` variables indicate which type of analyzed data is being fed into the subsetting function\n",
    "+ `STATES` variable enable collecting only the relevant cell count and states data (thus excluding cell distribution data such as volumes and average cell cycle lengths)"
   ]
  },
  {
   "cell_type": "code",
   "execution_count": null,
   "metadata": {
    "collapsed": true
   },
   "outputs": [],
   "source": [
    "# Co-culture dish effective treatment workspace variables\n",
    "DATA_PATH_TOY_COCULTURE_SHAREDLOCS = 'examples/files/toy/coculture/analyzed/sharedlocs/'\n",
    "\n",
    "TOY_DISH_COCULTURE_XML_NAME = 'VITRO_DISH_TREAT_CH_2D'\n",
    "\n",
    "RESULTS_PATH_TOY_COCULTURE_SUBSET_SHAREDLOCS = 'examples/files/toy/coculture/subset/sharedlocs/'\n",
    "\n",
    "# Tissue effective treatment workspace variables\n",
    "DATA_PATH_TOY_TISSUE_SHAREDLOCS = 'examples/files/toy/tissue/analyzed/sharedlocs/'\n",
    "\n",
    "TOY_TISSUE_XML_NAME = 'VIVO_TISSUE_TREAT_CH_2D'\n",
    "\n",
    "RESULTS_PATH_TOY_TISSUE_SUBSET_SHAREDLOCS = 'examples/files/toy/tissue/subset/sharedlocs/'\n",
    "\n",
    "# Shared locations workspace variables\n",
    "DATA_TYPE_SHAREDLOCS = 'SHAREDLOCS'\n",
    "SHAREDLOCS_ALL = ''\n",
    "STATES = True"
   ]
  },
  {
   "cell_type": "markdown",
   "metadata": {},
   "source": [
    "#### SUBSET EFFECTIVE TREATMENT `REALISTIC CO-CULTURE DISH` AND `TISSUE` SIMULATIONS"
   ]
  },
  {
   "cell_type": "code",
   "execution_count": null,
   "metadata": {
    "collapsed": true
   },
   "outputs": [],
   "source": [
    "import scripts.subset.subset"
   ]
  },
  {
   "cell_type": "code",
   "execution_count": null,
   "metadata": {
    "collapsed": true
   },
   "outputs": [],
   "source": [
    "scripts.subset.subset.subset_data(DATA_PATH_TOY_COCULTURE_SHAREDLOCS, TOY_DISH_COCULTURE_XML_NAME, DATA_TYPE_SHAREDLOCS, RESULTS_PATH_TOY_COCULTURE_SUBSET_SHAREDLOCS, subsetsRequested=SHAREDLOCS_ALL, states=STATES)\n",
    "scripts.subset.subset.subset_data(DATA_PATH_TOY_TISSUE_SHAREDLOCS, TOY_TISSUE_XML_NAME, DATA_TYPE_SHAREDLOCS, RESULTS_PATH_TOY_TISSUE_SUBSET_SHAREDLOCS, subsetsRequested=SHAREDLOCS_ALL, states=STATES)"
   ]
  },
  {
   "cell_type": "markdown",
   "metadata": {},
   "source": [
    "---"
   ]
  },
  {
   "cell_type": "markdown",
   "metadata": {},
   "source": [
    "### 6.3 PLOT CO-CULTURE DISH AND TISSUE SHARED LOCS DATA"
   ]
  },
  {
   "cell_type": "markdown",
   "metadata": {},
   "source": [
    "The main plotting function (`plot_data`) iterates through each subsetted file (`.pkl`) in the data path and plots relevant data for each subset instance.\n",
    "\n",
    "The function enables choosing which feature to color the data by. Choosing the color to be `X` will enable the function to automatically color the data based on whichever features are not held constant in the subset. Since not all possible combinations of the `tissue` data was collected and only the effective treatment `realistic co-culture dish` are desired, each desired feature to color by will need to be specified (and stored in different locations as the feature color is not stored in the file name). In this analysis, only `ANTIGENS CANCER` was used.\n",
    "\n",
    "For this example, rather than working with the toy datasets, we provided the real, full subsetted `SHAREDLOCS` data for the effective treatments in the `realistic co-culture dish` context and the `tissue` context."
   ]
  },
  {
   "cell_type": "markdown",
   "metadata": {},
   "source": [
    "#### WORKSPACE VARIABLES\n",
    "\n",
    "\n",
    "Set up workspace variables for plotting simulations.\n",
    "\n",
    "+ `DATA_PATH` variables are the path to subsetted data files (`.pkl` files generated by subsetting data)\n",
    "+ `RESULT_PATH` variables are the path for result files (`.svg` files generated by plotting) and one for each feature colored by is listed per each type of data plotted\n",
    "+ `SHAREDLOCS_COLOR` variables indicate which feature to color the variables by\n",
    "+ `SHAREDLOCS_PARTIAL` indicates that only a partial set of a full combinatorial set of features is present and is a flag used for selecting which plots to make."
   ]
  },
  {
   "cell_type": "code",
   "execution_count": null,
   "metadata": {
    "collapsed": true
   },
   "outputs": [],
   "source": [
    "# Co-culture dish effective treatment workspace variables\n",
    "DATA_PATH_DISH_COCULTURE_EFFECTIVE_TREATMENTS_SUBSET_SHAREDLOCS = 'examples/files/full/coculture/subset/sharedlocs/'\n",
    "RESULTS_PATH_COCULTURE_EFFECTIVE_TREATMENTS_FIGURES_SHAREDLOCS = 'examples/figures/coculture/sharedlocs/'\n",
    "\n",
    "# Tissue effective treatment workspace variables\n",
    "DATA_PATH_TISSUE_SUBSET_SHAREDLOCS = 'examples/files/full/tissue/subset/sharedlocs/'\n",
    "RESULTS_PATH_TISSUE_FIGURES_SHAREDLOCS = 'examples/figures/tissue/sharedlocs/'\n",
    "\n",
    "# Shared locations workspace variables\n",
    "SHAREDLOCS_COLOR = 'ANTIGENS CANCER'\n",
    "SHAREDLOCS_PARTIAL = True"
   ]
  },
  {
   "cell_type": "markdown",
   "metadata": {},
   "source": [
    "#### PLOT EFFECTIVE TREATMENT `REALISTIC CO-CULTURE DISH` AND `TISSUE` SIMULATIONS"
   ]
  },
  {
   "cell_type": "code",
   "execution_count": null,
   "metadata": {
    "collapsed": true
   },
   "outputs": [],
   "source": [
    "import scripts.plot.plot_data"
   ]
  },
  {
   "cell_type": "code",
   "execution_count": null,
   "metadata": {
    "collapsed": true
   },
   "outputs": [],
   "source": [
    "scripts.plot.plot_data.plot_data(DATA_PATH_DISH_COCULTURE_EFFECTIVE_TREATMENTS_SUBSET_SHAREDLOCS, SHAREDLOCS_COLOR, RESULTS_PATH_COCULTURE_EFFECTIVE_TREATMENTS_FIGURES_SHAREDLOCS, partial=SHAREDLOCS_PARTIAL)\n",
    "scripts.plot.plot_data.plot_data(DATA_PATH_TISSUE_SUBSET_SHAREDLOCS, SHAREDLOCS_COLOR, RESULTS_PATH_TISSUE_FIGURES_SHAREDLOCS, partial=SHAREDLOCS_PARTIAL)"
   ]
  },
  {
   "cell_type": "markdown",
   "metadata": {},
   "source": [
    "---"
   ]
  },
  {
   "cell_type": "markdown",
   "metadata": {},
   "source": [
    "## 7. CO-CULTURE, TISSUE, AND GRAPH IMAGING"
   ]
  },
  {
   "cell_type": "markdown",
   "metadata": {},
   "source": [
    "Images of the simulations in each context are generated to highlight the differences in cancer and healthy cell spatial distributions over time.\n",
    "\n",
    "The main function `image` takes in a `.json` file output from the simulation and produces an image of either the populations, cell states, volume density, or graphs. For this analysis, only the population and graph figures were used. \n",
    "\n",
    "The population images were generated for the following files:\n",
    "    \n",
    "    VITRO_DISH_TREAT_CH_0_NA_NA_1000_100_00.json\n",
    "    VIVO_TISSUE_TREAT_CH_0_NA_NA_1000_100_00.json\n",
    "\n",
    "The graph images were generated for the following file:\n",
    "\n",
    "    VIVO_TISSUE_TREAT_CH_0_NA_NA_1000_100_00.GRAPH.json\n",
    "    \n",
    "These represent the untreated `realistic co-culture dish` and `tissue` simulations."
   ]
  },
  {
   "cell_type": "markdown",
   "metadata": {},
   "source": [
    "#### WORKSPACE VARIABLES\n",
    "\n",
    "+ `DATA_PATH` variables are the path to subsetted data files (`.json` files generated from simulation output)\n",
    "+ `...TIMES` variables indicate which time points to make images at\n",
    "+ `SIZE` variable indicates the size to make the image\n",
    "+ `POPS_TO_IGNORE` indicate which cell population nubmers to ignore (where CAR T-cell populations are listed, but are not present in these untreated simulations)\n",
    "+ `BGCOL` indicates what color to make the background of the image\n",
    "+ `RADIUS` indicates the simulation radius out which to draw to (cells stop at radius 36, but the grpah exists within the margins and out to the full radius of 40)"
   ]
  },
  {
   "cell_type": "code",
   "execution_count": null,
   "metadata": {
    "collapsed": true
   },
   "outputs": [],
   "source": [
    "# Untreated co-culture dish images\n",
    "DATA_PATH_IMAGE_UNTREATED_COCULTURE_CELLS = 'examples/files/full/coculture/jsons/'\n",
    "DATA_PATH_IMAGE_UNTREATED_COCULTURE_SVG = 'examples/figures/coculture/images/'\n",
    "DISH_TIMES = '0,4,7'\n",
    "\n",
    "# Untreated tissue images\n",
    "DATA_PATH_IMAGE_UNTREATED_TISSUE_CELLS = 'examples/files/full/tissue/jsons/cells/'\n",
    "DATA_PATH_IMAGE_UNTREATED_TISSUE_SVG = 'examples/figures/tissue/images/'\n",
    "TISSUE_TIMES = '1,16,31'\n",
    "\n",
    "# Population image specifications\n",
    "SIZE = '5'\n",
    "POPS_TO_IGNORE = '2,3'\n",
    "BGCOL = '#FFFFFF'\n",
    "RADIUS = '40'\n",
    "\n",
    "# Tissue graph image specifications\n",
    "DATA_PATH_IMAGE_UNTREATED_TISSUE_GRAPH = 'examples/files/full/tissue/jsons/graph/'\n",
    "DATA_PATH_IMAGE_UNTREATED_TISSUE_SVG = 'examples/figures/tissue/images/'"
   ]
  },
  {
   "cell_type": "markdown",
   "metadata": {},
   "source": [
    "#### IMAGE UNTREATED `REALISTIC CO-CULTURE DISH` AND `TISSUE` DATA"
   ]
  },
  {
   "cell_type": "code",
   "execution_count": null,
   "metadata": {
    "collapsed": true
   },
   "outputs": [],
   "source": [
    "import scripts.image.image"
   ]
  },
  {
   "cell_type": "code",
   "execution_count": null,
   "metadata": {
    "collapsed": true
   },
   "outputs": [],
   "source": [
    "scripts.image.image.image(DATA_PATH_IMAGE_UNTREATED_COCULTURE_CELLS, DATA_PATH_IMAGE_UNTREATED_COCULTURE_SVG, size=SIZE, time=DISH_TIMES, ignore=POPS_TO_IGNORE, radius=RADIUS, bgcol=BGCOL, pops=True)\n",
    "scripts.image.image.image(DATA_PATH_IMAGE_UNTREATED_TISSUE_CELLS, DATA_PATH_IMAGE_UNTREATED_TISSUE_SVG, size=SIZE, time=TISSUE_TIMES, ignore=POPS_TO_IGNORE, radius=RADIUS, bgcol=BGCOL, pops=True)\n",
    "scripts.image.image.image(DATA_PATH_IMAGE_UNTREATED_TISSUE_GRAPH, DATA_PATH_IMAGE_UNTREATED_TISSUE_SVG, size=SIZE, time=TISSUE_TIMES, radius=RADIUS, graph=True)"
   ]
  },
  {
   "cell_type": "code",
   "execution_count": null,
   "metadata": {
    "collapsed": true
   },
   "outputs": [],
   "source": []
  }
 ],
 "metadata": {
  "kernelspec": {
   "display_name": "Python 3",
   "language": "python",
   "name": "python3"
  },
  "language_info": {
   "codemirror_mode": {
    "name": "ipython",
    "version": 3
   },
   "file_extension": ".py",
   "mimetype": "text/x-python",
   "name": "python",
   "nbconvert_exporter": "python",
   "pygments_lexer": "ipython3",
   "version": "3.6.8"
  }
 },
 "nbformat": 4,
 "nbformat_minor": 2
}
